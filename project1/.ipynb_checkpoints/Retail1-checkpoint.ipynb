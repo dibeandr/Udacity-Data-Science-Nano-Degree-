{
 "cells": [
  {
   "cell_type": "markdown",
   "id": "cc73203f",
   "metadata": {},
   "source": [
    "# Data Set\n",
    "### Define and import all libraries to be used and read the csv file\n"
   ]
  },
  {
   "cell_type": "markdown",
   "id": "3dcc26dc",
   "metadata": {},
   "source": [
    "# 1. Business Understanding\n",
    "#### Understand the country with the highest online purchases to inform marketing strategies and allocation of resources. Determine the fast-selling item to optimize inventory management and marketing strategies. Determine the month with the highest revenue to inform financial planning and marketing strategies. Understand the regions with the highest online transactions to target marketing efforts effectively.\n",
    "\n",
    "1. Which Country has the highest online purchases?\n",
    "2. What is the fast-selling item from the stock list\n",
    "3. Which month did the retail make highest revenue?\n",
    "\n"
   ]
  },
  {
   "cell_type": "markdown",
   "id": "b973b6db",
   "metadata": {},
   "source": [
    "# Data Understanding\n",
    "#### Explore the dataset to identify the columns related to country of sale of online purchases,  related to stock items and Prices and  revenue and over a period of 12 months, Understand the regions with the highest online transactions to target marketing efforts effectively. Explore the dataset to identify columns related to regions and online transactions."
   ]
  },
  {
   "cell_type": "markdown",
   "id": "2e3a199a",
   "metadata": {},
   "source": [
    "## Import Libraries\n",
    "####  this is for data explore, analysis and plot for visualisation"
   ]
  },
  {
   "cell_type": "code",
   "execution_count": 1,
   "id": "5b26ae55",
   "metadata": {},
   "outputs": [],
   "source": [
    "#define and import all libraries to be used \n",
    "import numpy as np\n",
    "import pandas as pd\n",
    "import matplotlib.pyplot as plt\n",
    "import seaborn as sns\n",
    "df=pd.read_csv(\"online_retail.csv\")\n"
   ]
  },
  {
   "cell_type": "markdown",
   "id": "cb0e3f66",
   "metadata": {},
   "source": [
    "# Gather data\n",
    "#### reading the file, csv file"
   ]
  },
  {
   "cell_type": "code",
   "execution_count": 2,
   "id": "7bafb87f",
   "metadata": {},
   "outputs": [],
   "source": [
    "df=pd.read_csv(\"online_retail.csv\")"
   ]
  },
  {
   "cell_type": "markdown",
   "id": "b4af645d",
   "metadata": {},
   "source": [
    "# Data Preparation and Explore\n"
   ]
  },
  {
   "cell_type": "code",
   "execution_count": 3,
   "id": "5901cd35",
   "metadata": {},
   "outputs": [
    {
     "data": {
      "text/html": [
       "<div>\n",
       "<style scoped>\n",
       "    .dataframe tbody tr th:only-of-type {\n",
       "        vertical-align: middle;\n",
       "    }\n",
       "\n",
       "    .dataframe tbody tr th {\n",
       "        vertical-align: top;\n",
       "    }\n",
       "\n",
       "    .dataframe thead th {\n",
       "        text-align: right;\n",
       "    }\n",
       "</style>\n",
       "<table border=\"1\" class=\"dataframe\">\n",
       "  <thead>\n",
       "    <tr style=\"text-align: right;\">\n",
       "      <th></th>\n",
       "      <th>index</th>\n",
       "      <th>InvoiceNo</th>\n",
       "      <th>StockCode</th>\n",
       "      <th>Description</th>\n",
       "      <th>Quantity</th>\n",
       "      <th>InvoiceDate</th>\n",
       "      <th>UnitPrice</th>\n",
       "      <th>CustomerID</th>\n",
       "      <th>Country</th>\n",
       "    </tr>\n",
       "  </thead>\n",
       "  <tbody>\n",
       "    <tr>\n",
       "      <th>0</th>\n",
       "      <td>0</td>\n",
       "      <td>536365</td>\n",
       "      <td>85123A</td>\n",
       "      <td>WHITE HANGING HEART T-LIGHT HOLDER</td>\n",
       "      <td>6</td>\n",
       "      <td>12/1/2010 8:26</td>\n",
       "      <td>2.55</td>\n",
       "      <td>17850.0</td>\n",
       "      <td>United Kingdom</td>\n",
       "    </tr>\n",
       "    <tr>\n",
       "      <th>1</th>\n",
       "      <td>1</td>\n",
       "      <td>536365</td>\n",
       "      <td>71053</td>\n",
       "      <td>WHITE METAL LANTERN</td>\n",
       "      <td>6</td>\n",
       "      <td>12/1/2010 8:26</td>\n",
       "      <td>3.39</td>\n",
       "      <td>17850.0</td>\n",
       "      <td>United Kingdom</td>\n",
       "    </tr>\n",
       "    <tr>\n",
       "      <th>2</th>\n",
       "      <td>2</td>\n",
       "      <td>536365</td>\n",
       "      <td>84406B</td>\n",
       "      <td>CREAM CUPID HEARTS COAT HANGER</td>\n",
       "      <td>8</td>\n",
       "      <td>12/1/2010 8:26</td>\n",
       "      <td>2.75</td>\n",
       "      <td>17850.0</td>\n",
       "      <td>United Kingdom</td>\n",
       "    </tr>\n",
       "    <tr>\n",
       "      <th>3</th>\n",
       "      <td>3</td>\n",
       "      <td>536365</td>\n",
       "      <td>84029G</td>\n",
       "      <td>KNITTED UNION FLAG HOT WATER BOTTLE</td>\n",
       "      <td>6</td>\n",
       "      <td>12/1/2010 8:26</td>\n",
       "      <td>3.39</td>\n",
       "      <td>17850.0</td>\n",
       "      <td>United Kingdom</td>\n",
       "    </tr>\n",
       "    <tr>\n",
       "      <th>4</th>\n",
       "      <td>4</td>\n",
       "      <td>536365</td>\n",
       "      <td>84029E</td>\n",
       "      <td>RED WOOLLY HOTTIE WHITE HEART.</td>\n",
       "      <td>6</td>\n",
       "      <td>12/1/2010 8:26</td>\n",
       "      <td>3.39</td>\n",
       "      <td>17850.0</td>\n",
       "      <td>United Kingdom</td>\n",
       "    </tr>\n",
       "    <tr>\n",
       "      <th>5</th>\n",
       "      <td>5</td>\n",
       "      <td>536365</td>\n",
       "      <td>22752</td>\n",
       "      <td>SET 7 BABUSHKA NESTING BOXES</td>\n",
       "      <td>2</td>\n",
       "      <td>12/1/2010 8:26</td>\n",
       "      <td>7.65</td>\n",
       "      <td>17850.0</td>\n",
       "      <td>United Kingdom</td>\n",
       "    </tr>\n",
       "    <tr>\n",
       "      <th>6</th>\n",
       "      <td>6</td>\n",
       "      <td>536365</td>\n",
       "      <td>21730</td>\n",
       "      <td>GLASS STAR FROSTED T-LIGHT HOLDER</td>\n",
       "      <td>6</td>\n",
       "      <td>12/1/2010 8:26</td>\n",
       "      <td>4.25</td>\n",
       "      <td>17850.0</td>\n",
       "      <td>United Kingdom</td>\n",
       "    </tr>\n",
       "    <tr>\n",
       "      <th>7</th>\n",
       "      <td>7</td>\n",
       "      <td>536366</td>\n",
       "      <td>22633</td>\n",
       "      <td>HAND WARMER UNION JACK</td>\n",
       "      <td>6</td>\n",
       "      <td>12/1/2010 8:28</td>\n",
       "      <td>1.85</td>\n",
       "      <td>17850.0</td>\n",
       "      <td>United Kingdom</td>\n",
       "    </tr>\n",
       "    <tr>\n",
       "      <th>8</th>\n",
       "      <td>8</td>\n",
       "      <td>536366</td>\n",
       "      <td>22632</td>\n",
       "      <td>HAND WARMER RED POLKA DOT</td>\n",
       "      <td>6</td>\n",
       "      <td>12/1/2010 8:28</td>\n",
       "      <td>1.85</td>\n",
       "      <td>17850.0</td>\n",
       "      <td>United Kingdom</td>\n",
       "    </tr>\n",
       "    <tr>\n",
       "      <th>9</th>\n",
       "      <td>9</td>\n",
       "      <td>536367</td>\n",
       "      <td>84879</td>\n",
       "      <td>ASSORTED COLOUR BIRD ORNAMENT</td>\n",
       "      <td>32</td>\n",
       "      <td>12/1/2010 8:34</td>\n",
       "      <td>1.69</td>\n",
       "      <td>13047.0</td>\n",
       "      <td>United Kingdom</td>\n",
       "    </tr>\n",
       "  </tbody>\n",
       "</table>\n",
       "</div>"
      ],
      "text/plain": [
       "   index InvoiceNo StockCode                          Description  Quantity  \\\n",
       "0      0    536365    85123A   WHITE HANGING HEART T-LIGHT HOLDER         6   \n",
       "1      1    536365     71053                  WHITE METAL LANTERN         6   \n",
       "2      2    536365    84406B       CREAM CUPID HEARTS COAT HANGER         8   \n",
       "3      3    536365    84029G  KNITTED UNION FLAG HOT WATER BOTTLE         6   \n",
       "4      4    536365    84029E       RED WOOLLY HOTTIE WHITE HEART.         6   \n",
       "5      5    536365     22752         SET 7 BABUSHKA NESTING BOXES         2   \n",
       "6      6    536365     21730    GLASS STAR FROSTED T-LIGHT HOLDER         6   \n",
       "7      7    536366     22633               HAND WARMER UNION JACK         6   \n",
       "8      8    536366     22632            HAND WARMER RED POLKA DOT         6   \n",
       "9      9    536367     84879        ASSORTED COLOUR BIRD ORNAMENT        32   \n",
       "\n",
       "      InvoiceDate  UnitPrice  CustomerID         Country  \n",
       "0  12/1/2010 8:26       2.55     17850.0  United Kingdom  \n",
       "1  12/1/2010 8:26       3.39     17850.0  United Kingdom  \n",
       "2  12/1/2010 8:26       2.75     17850.0  United Kingdom  \n",
       "3  12/1/2010 8:26       3.39     17850.0  United Kingdom  \n",
       "4  12/1/2010 8:26       3.39     17850.0  United Kingdom  \n",
       "5  12/1/2010 8:26       7.65     17850.0  United Kingdom  \n",
       "6  12/1/2010 8:26       4.25     17850.0  United Kingdom  \n",
       "7  12/1/2010 8:28       1.85     17850.0  United Kingdom  \n",
       "8  12/1/2010 8:28       1.85     17850.0  United Kingdom  \n",
       "9  12/1/2010 8:34       1.69     13047.0  United Kingdom  "
      ]
     },
     "execution_count": 3,
     "metadata": {},
     "output_type": "execute_result"
    }
   ],
   "source": [
    "#checking data\n",
    "df.head(10)"
   ]
  },
  {
   "cell_type": "code",
   "execution_count": 4,
   "id": "8a2c8c22",
   "metadata": {},
   "outputs": [
    {
     "data": {
      "text/plain": [
       "index               0\n",
       "InvoiceNo           0\n",
       "StockCode           0\n",
       "Description      1454\n",
       "Quantity            0\n",
       "InvoiceDate         0\n",
       "UnitPrice           0\n",
       "CustomerID     135080\n",
       "Country             0\n",
       "dtype: int64"
      ]
     },
     "execution_count": 4,
     "metadata": {},
     "output_type": "execute_result"
    }
   ],
   "source": [
    "## checking if data has nulls\n",
    "#dropping customerID with such big numbers will impact Total Quantity and Price of teh dataframe .. Therefore I decided to make them \"NoCustomerID\" \n",
    "df.isnull().sum()"
   ]
  },
  {
   "cell_type": "code",
   "execution_count": 5,
   "id": "12d09d60",
   "metadata": {},
   "outputs": [
    {
     "data": {
      "text/plain": [
       "4372"
      ]
     },
     "execution_count": 5,
     "metadata": {},
     "output_type": "execute_result"
    }
   ],
   "source": [
    "#checking unique values of Customer ID, double checking if can categorise or Groupby the \"CustomerID\",  or are they too many?\n",
    "#Yes there are too many unique CustoemrID\n",
    "df[\"CustomerID\"].nunique()"
   ]
  },
  {
   "cell_type": "code",
   "execution_count": 6,
   "id": "a88b103c",
   "metadata": {},
   "outputs": [],
   "source": [
    "#decision not to drop nulls for CustomerID, but rather label it as \"NoCustomerID\" so that we identify easily transaction with CustomerID =Nan or Nulls.. \n",
    "# there are lots on nulls, dropping this would change the Output of data drasticallay.. i,e Sales /Revenue /Quantities\n",
    "df[\"CustomerID\"].fillna(value= \"NoCustomerID\", inplace=True)"
   ]
  },
  {
   "cell_type": "code",
   "execution_count": 7,
   "id": "843b7a12",
   "metadata": {},
   "outputs": [
    {
     "data": {
      "text/plain": [
       "'23843'"
      ]
     },
     "execution_count": 7,
     "metadata": {},
     "output_type": "execute_result"
    }
   ],
   "source": [
    "#checking unique values\n",
    "#this suggets a lot of variety of stock and items customers can choose from \n",
    "df[\"StockCode\"].unique().all()"
   ]
  },
  {
   "cell_type": "code",
   "execution_count": 8,
   "id": "f23b0557",
   "metadata": {},
   "outputs": [
    {
     "data": {
      "text/html": [
       "<div>\n",
       "<style scoped>\n",
       "    .dataframe tbody tr th:only-of-type {\n",
       "        vertical-align: middle;\n",
       "    }\n",
       "\n",
       "    .dataframe tbody tr th {\n",
       "        vertical-align: top;\n",
       "    }\n",
       "\n",
       "    .dataframe thead th {\n",
       "        text-align: right;\n",
       "    }\n",
       "</style>\n",
       "<table border=\"1\" class=\"dataframe\">\n",
       "  <thead>\n",
       "    <tr style=\"text-align: right;\">\n",
       "      <th></th>\n",
       "      <th>index</th>\n",
       "      <th>InvoiceNo</th>\n",
       "      <th>StockCode</th>\n",
       "      <th>Description</th>\n",
       "      <th>Quantity</th>\n",
       "      <th>InvoiceDate</th>\n",
       "      <th>UnitPrice</th>\n",
       "      <th>CustomerID</th>\n",
       "      <th>Country</th>\n",
       "    </tr>\n",
       "  </thead>\n",
       "  <tbody>\n",
       "    <tr>\n",
       "      <th>221</th>\n",
       "      <td>221</td>\n",
       "      <td>536390</td>\n",
       "      <td>22197</td>\n",
       "      <td>SMALL POPCORN HOLDER</td>\n",
       "      <td>100</td>\n",
       "      <td>12/1/2010 10:19</td>\n",
       "      <td>0.72</td>\n",
       "      <td>17511.0</td>\n",
       "      <td>United Kingdom</td>\n",
       "    </tr>\n",
       "    <tr>\n",
       "      <th>393</th>\n",
       "      <td>393</td>\n",
       "      <td>536404</td>\n",
       "      <td>22197</td>\n",
       "      <td>SMALL POPCORN HOLDER</td>\n",
       "      <td>36</td>\n",
       "      <td>12/1/2010 11:29</td>\n",
       "      <td>0.85</td>\n",
       "      <td>16218.0</td>\n",
       "      <td>United Kingdom</td>\n",
       "    </tr>\n",
       "    <tr>\n",
       "      <th>532</th>\n",
       "      <td>532</td>\n",
       "      <td>536409</td>\n",
       "      <td>22197</td>\n",
       "      <td>SMALL POPCORN HOLDER</td>\n",
       "      <td>2</td>\n",
       "      <td>12/1/2010 11:45</td>\n",
       "      <td>0.85</td>\n",
       "      <td>17908.0</td>\n",
       "      <td>United Kingdom</td>\n",
       "    </tr>\n",
       "    <tr>\n",
       "      <th>610</th>\n",
       "      <td>610</td>\n",
       "      <td>536412</td>\n",
       "      <td>22197</td>\n",
       "      <td>SMALL POPCORN HOLDER</td>\n",
       "      <td>5</td>\n",
       "      <td>12/1/2010 11:49</td>\n",
       "      <td>0.85</td>\n",
       "      <td>17920.0</td>\n",
       "      <td>United Kingdom</td>\n",
       "    </tr>\n",
       "    <tr>\n",
       "      <th>804</th>\n",
       "      <td>804</td>\n",
       "      <td>536464</td>\n",
       "      <td>22197</td>\n",
       "      <td>SMALL POPCORN HOLDER</td>\n",
       "      <td>5</td>\n",
       "      <td>12/1/2010 12:23</td>\n",
       "      <td>0.85</td>\n",
       "      <td>17968.0</td>\n",
       "      <td>United Kingdom</td>\n",
       "    </tr>\n",
       "    <tr>\n",
       "      <th>...</th>\n",
       "      <td>...</td>\n",
       "      <td>...</td>\n",
       "      <td>...</td>\n",
       "      <td>...</td>\n",
       "      <td>...</td>\n",
       "      <td>...</td>\n",
       "      <td>...</td>\n",
       "      <td>...</td>\n",
       "      <td>...</td>\n",
       "    </tr>\n",
       "    <tr>\n",
       "      <th>540321</th>\n",
       "      <td>540321</td>\n",
       "      <td>581476</td>\n",
       "      <td>22197</td>\n",
       "      <td>POPCORN HOLDER</td>\n",
       "      <td>100</td>\n",
       "      <td>12/9/2011 8:48</td>\n",
       "      <td>0.72</td>\n",
       "      <td>12433.0</td>\n",
       "      <td>Norway</td>\n",
       "    </tr>\n",
       "    <tr>\n",
       "      <th>540785</th>\n",
       "      <td>540785</td>\n",
       "      <td>581492</td>\n",
       "      <td>22197</td>\n",
       "      <td>POPCORN HOLDER</td>\n",
       "      <td>34</td>\n",
       "      <td>12/9/2011 10:03</td>\n",
       "      <td>1.63</td>\n",
       "      <td>NoCustomerID</td>\n",
       "      <td>United Kingdom</td>\n",
       "    </tr>\n",
       "    <tr>\n",
       "      <th>541285</th>\n",
       "      <td>541285</td>\n",
       "      <td>581497</td>\n",
       "      <td>22197</td>\n",
       "      <td>POPCORN HOLDER</td>\n",
       "      <td>68</td>\n",
       "      <td>12/9/2011 10:23</td>\n",
       "      <td>2.46</td>\n",
       "      <td>NoCustomerID</td>\n",
       "      <td>United Kingdom</td>\n",
       "    </tr>\n",
       "    <tr>\n",
       "      <th>541678</th>\n",
       "      <td>541678</td>\n",
       "      <td>581538</td>\n",
       "      <td>22197</td>\n",
       "      <td>POPCORN HOLDER</td>\n",
       "      <td>4</td>\n",
       "      <td>12/9/2011 11:34</td>\n",
       "      <td>0.85</td>\n",
       "      <td>14446.0</td>\n",
       "      <td>United Kingdom</td>\n",
       "    </tr>\n",
       "    <tr>\n",
       "      <th>541825</th>\n",
       "      <td>541825</td>\n",
       "      <td>581579</td>\n",
       "      <td>22197</td>\n",
       "      <td>POPCORN HOLDER</td>\n",
       "      <td>24</td>\n",
       "      <td>12/9/2011 12:19</td>\n",
       "      <td>0.85</td>\n",
       "      <td>17581.0</td>\n",
       "      <td>United Kingdom</td>\n",
       "    </tr>\n",
       "  </tbody>\n",
       "</table>\n",
       "<p>1476 rows × 9 columns</p>\n",
       "</div>"
      ],
      "text/plain": [
       "         index InvoiceNo StockCode           Description  Quantity  \\\n",
       "221        221    536390     22197  SMALL POPCORN HOLDER       100   \n",
       "393        393    536404     22197  SMALL POPCORN HOLDER        36   \n",
       "532        532    536409     22197  SMALL POPCORN HOLDER         2   \n",
       "610        610    536412     22197  SMALL POPCORN HOLDER         5   \n",
       "804        804    536464     22197  SMALL POPCORN HOLDER         5   \n",
       "...        ...       ...       ...                   ...       ...   \n",
       "540321  540321    581476     22197        POPCORN HOLDER       100   \n",
       "540785  540785    581492     22197        POPCORN HOLDER        34   \n",
       "541285  541285    581497     22197        POPCORN HOLDER        68   \n",
       "541678  541678    581538     22197        POPCORN HOLDER         4   \n",
       "541825  541825    581579     22197        POPCORN HOLDER        24   \n",
       "\n",
       "            InvoiceDate  UnitPrice    CustomerID         Country  \n",
       "221     12/1/2010 10:19       0.72       17511.0  United Kingdom  \n",
       "393     12/1/2010 11:29       0.85       16218.0  United Kingdom  \n",
       "532     12/1/2010 11:45       0.85       17908.0  United Kingdom  \n",
       "610     12/1/2010 11:49       0.85       17920.0  United Kingdom  \n",
       "804     12/1/2010 12:23       0.85       17968.0  United Kingdom  \n",
       "...                 ...        ...           ...             ...  \n",
       "540321   12/9/2011 8:48       0.72       12433.0          Norway  \n",
       "540785  12/9/2011 10:03       1.63  NoCustomerID  United Kingdom  \n",
       "541285  12/9/2011 10:23       2.46  NoCustomerID  United Kingdom  \n",
       "541678  12/9/2011 11:34       0.85       14446.0  United Kingdom  \n",
       "541825  12/9/2011 12:19       0.85       17581.0  United Kingdom  \n",
       "\n",
       "[1476 rows x 9 columns]"
      ]
     },
     "execution_count": 8,
     "metadata": {},
     "output_type": "execute_result"
    }
   ],
   "source": [
    "df[df[\"StockCode\"]==\"22197\"]"
   ]
  },
  {
   "cell_type": "markdown",
   "id": "0028aa5e",
   "metadata": {},
   "source": [
    "# Prepare Data"
   ]
  },
  {
   "cell_type": "code",
   "execution_count": 9,
   "id": "05dd2f38",
   "metadata": {},
   "outputs": [
    {
     "data": {
      "text/plain": [
       "(541909, 9)"
      ]
     },
     "execution_count": 9,
     "metadata": {},
     "output_type": "execute_result"
    }
   ],
   "source": [
    "#displaying How many rows and columns does a dataframe has..\n",
    "df.shape"
   ]
  },
  {
   "cell_type": "code",
   "execution_count": 10,
   "id": "31d5ebd6",
   "metadata": {},
   "outputs": [
    {
     "name": "stdout",
     "output_type": "stream",
     "text": [
      "<class 'pandas.core.frame.DataFrame'>\n",
      "RangeIndex: 541909 entries, 0 to 541908\n",
      "Data columns (total 9 columns):\n",
      " #   Column       Non-Null Count   Dtype  \n",
      "---  ------       --------------   -----  \n",
      " 0   index        541909 non-null  int64  \n",
      " 1   InvoiceNo    541909 non-null  object \n",
      " 2   StockCode    541909 non-null  object \n",
      " 3   Description  540455 non-null  object \n",
      " 4   Quantity     541909 non-null  int64  \n",
      " 5   InvoiceDate  541909 non-null  object \n",
      " 6   UnitPrice    541909 non-null  float64\n",
      " 7   CustomerID   541909 non-null  object \n",
      " 8   Country      541909 non-null  object \n",
      "dtypes: float64(1), int64(2), object(6)\n",
      "memory usage: 37.2+ MB\n"
     ]
    }
   ],
   "source": [
    "df.info()\n",
    "## checking  Data Types "
   ]
  },
  {
   "cell_type": "code",
   "execution_count": 11,
   "id": "d06f262d",
   "metadata": {
    "scrolled": true
   },
   "outputs": [
    {
     "data": {
      "text/html": [
       "<div>\n",
       "<style scoped>\n",
       "    .dataframe tbody tr th:only-of-type {\n",
       "        vertical-align: middle;\n",
       "    }\n",
       "\n",
       "    .dataframe tbody tr th {\n",
       "        vertical-align: top;\n",
       "    }\n",
       "\n",
       "    .dataframe thead th {\n",
       "        text-align: right;\n",
       "    }\n",
       "</style>\n",
       "<table border=\"1\" class=\"dataframe\">\n",
       "  <thead>\n",
       "    <tr style=\"text-align: right;\">\n",
       "      <th></th>\n",
       "      <th>index</th>\n",
       "      <th>Quantity</th>\n",
       "      <th>UnitPrice</th>\n",
       "    </tr>\n",
       "  </thead>\n",
       "  <tbody>\n",
       "    <tr>\n",
       "      <th>count</th>\n",
       "      <td>541909.00000</td>\n",
       "      <td>541909.000000</td>\n",
       "      <td>541909.000000</td>\n",
       "    </tr>\n",
       "    <tr>\n",
       "      <th>mean</th>\n",
       "      <td>270954.00000</td>\n",
       "      <td>9.552250</td>\n",
       "      <td>4.611114</td>\n",
       "    </tr>\n",
       "    <tr>\n",
       "      <th>std</th>\n",
       "      <td>156435.79785</td>\n",
       "      <td>218.081158</td>\n",
       "      <td>96.759853</td>\n",
       "    </tr>\n",
       "    <tr>\n",
       "      <th>min</th>\n",
       "      <td>0.00000</td>\n",
       "      <td>-80995.000000</td>\n",
       "      <td>-11062.060000</td>\n",
       "    </tr>\n",
       "    <tr>\n",
       "      <th>25%</th>\n",
       "      <td>135477.00000</td>\n",
       "      <td>1.000000</td>\n",
       "      <td>1.250000</td>\n",
       "    </tr>\n",
       "    <tr>\n",
       "      <th>50%</th>\n",
       "      <td>270954.00000</td>\n",
       "      <td>3.000000</td>\n",
       "      <td>2.080000</td>\n",
       "    </tr>\n",
       "    <tr>\n",
       "      <th>75%</th>\n",
       "      <td>406431.00000</td>\n",
       "      <td>10.000000</td>\n",
       "      <td>4.130000</td>\n",
       "    </tr>\n",
       "    <tr>\n",
       "      <th>max</th>\n",
       "      <td>541908.00000</td>\n",
       "      <td>80995.000000</td>\n",
       "      <td>38970.000000</td>\n",
       "    </tr>\n",
       "  </tbody>\n",
       "</table>\n",
       "</div>"
      ],
      "text/plain": [
       "              index       Quantity      UnitPrice\n",
       "count  541909.00000  541909.000000  541909.000000\n",
       "mean   270954.00000       9.552250       4.611114\n",
       "std    156435.79785     218.081158      96.759853\n",
       "min         0.00000  -80995.000000  -11062.060000\n",
       "25%    135477.00000       1.000000       1.250000\n",
       "50%    270954.00000       3.000000       2.080000\n",
       "75%    406431.00000      10.000000       4.130000\n",
       "max    541908.00000   80995.000000   38970.000000"
      ]
     },
     "execution_count": 11,
     "metadata": {},
     "output_type": "execute_result"
    }
   ],
   "source": [
    "df.describe()\n",
    "## descrbing basic Statisitics of the dataframe, Quantity values cannot be negative... \n",
    "#therefore need to drop the info on minimum such that minimum Quantity value >0 "
   ]
  },
  {
   "cell_type": "code",
   "execution_count": 12,
   "id": "9d3d9687",
   "metadata": {
    "scrolled": true
   },
   "outputs": [
    {
     "data": {
      "text/html": [
       "<div>\n",
       "<style scoped>\n",
       "    .dataframe tbody tr th:only-of-type {\n",
       "        vertical-align: middle;\n",
       "    }\n",
       "\n",
       "    .dataframe tbody tr th {\n",
       "        vertical-align: top;\n",
       "    }\n",
       "\n",
       "    .dataframe thead th {\n",
       "        text-align: right;\n",
       "    }\n",
       "</style>\n",
       "<table border=\"1\" class=\"dataframe\">\n",
       "  <thead>\n",
       "    <tr style=\"text-align: right;\">\n",
       "      <th></th>\n",
       "      <th>index</th>\n",
       "      <th>InvoiceNo</th>\n",
       "      <th>StockCode</th>\n",
       "      <th>Description</th>\n",
       "      <th>Quantity</th>\n",
       "      <th>InvoiceDate</th>\n",
       "      <th>UnitPrice</th>\n",
       "      <th>CustomerID</th>\n",
       "      <th>Country</th>\n",
       "    </tr>\n",
       "  </thead>\n",
       "  <tbody>\n",
       "  </tbody>\n",
       "</table>\n",
       "</div>"
      ],
      "text/plain": [
       "Empty DataFrame\n",
       "Columns: [index, InvoiceNo, StockCode, Description, Quantity, InvoiceDate, UnitPrice, CustomerID, Country]\n",
       "Index: []"
      ]
     },
     "execution_count": 12,
     "metadata": {},
     "output_type": "execute_result"
    }
   ],
   "source": [
    "# checking for duplicates on the dataframe \n",
    "#Output below shows no duplicates\n",
    "df[df.duplicated()]"
   ]
  },
  {
   "cell_type": "code",
   "execution_count": 13,
   "id": "64781491",
   "metadata": {},
   "outputs": [
    {
     "name": "stdout",
     "output_type": "stream",
     "text": [
      "There are 0 duplicated values in dataset\n"
     ]
    }
   ],
   "source": [
    "print(f'There are {df.duplicated().sum()} duplicated values in dataset')"
   ]
  },
  {
   "cell_type": "code",
   "execution_count": 14,
   "id": "c456e94c",
   "metadata": {},
   "outputs": [
    {
     "data": {
      "text/plain": [
       "index             0\n",
       "InvoiceNo         0\n",
       "StockCode         0\n",
       "Description    1454\n",
       "Quantity          0\n",
       "InvoiceDate       0\n",
       "UnitPrice         0\n",
       "CustomerID        0\n",
       "Country           0\n",
       "dtype: int64"
      ]
     },
     "execution_count": 14,
     "metadata": {},
     "output_type": "execute_result"
    }
   ],
   "source": [
    "df.isna().sum()\n",
    "## checking and counting null values..\n",
    "#Description has a 1454 as depicted below.. "
   ]
  },
  {
   "cell_type": "code",
   "execution_count": 15,
   "id": "f0666a3b",
   "metadata": {},
   "outputs": [
    {
     "data": {
      "text/html": [
       "<div>\n",
       "<style scoped>\n",
       "    .dataframe tbody tr th:only-of-type {\n",
       "        vertical-align: middle;\n",
       "    }\n",
       "\n",
       "    .dataframe tbody tr th {\n",
       "        vertical-align: top;\n",
       "    }\n",
       "\n",
       "    .dataframe thead th {\n",
       "        text-align: right;\n",
       "    }\n",
       "</style>\n",
       "<table border=\"1\" class=\"dataframe\">\n",
       "  <thead>\n",
       "    <tr style=\"text-align: right;\">\n",
       "      <th></th>\n",
       "      <th>count</th>\n",
       "      <th>mean</th>\n",
       "      <th>std</th>\n",
       "      <th>min</th>\n",
       "      <th>25%</th>\n",
       "      <th>50%</th>\n",
       "      <th>75%</th>\n",
       "      <th>max</th>\n",
       "    </tr>\n",
       "  </thead>\n",
       "  <tbody>\n",
       "    <tr>\n",
       "      <th>index</th>\n",
       "      <td>541909.0</td>\n",
       "      <td>270954.000000</td>\n",
       "      <td>156435.797850</td>\n",
       "      <td>0.00</td>\n",
       "      <td>135477.00</td>\n",
       "      <td>270954.00</td>\n",
       "      <td>406431.00</td>\n",
       "      <td>541908.0</td>\n",
       "    </tr>\n",
       "    <tr>\n",
       "      <th>Quantity</th>\n",
       "      <td>541909.0</td>\n",
       "      <td>9.552250</td>\n",
       "      <td>218.081158</td>\n",
       "      <td>-80995.00</td>\n",
       "      <td>1.00</td>\n",
       "      <td>3.00</td>\n",
       "      <td>10.00</td>\n",
       "      <td>80995.0</td>\n",
       "    </tr>\n",
       "    <tr>\n",
       "      <th>UnitPrice</th>\n",
       "      <td>541909.0</td>\n",
       "      <td>4.611114</td>\n",
       "      <td>96.759853</td>\n",
       "      <td>-11062.06</td>\n",
       "      <td>1.25</td>\n",
       "      <td>2.08</td>\n",
       "      <td>4.13</td>\n",
       "      <td>38970.0</td>\n",
       "    </tr>\n",
       "  </tbody>\n",
       "</table>\n",
       "</div>"
      ],
      "text/plain": [
       "              count           mean            std       min        25%  \\\n",
       "index      541909.0  270954.000000  156435.797850      0.00  135477.00   \n",
       "Quantity   541909.0       9.552250     218.081158 -80995.00       1.00   \n",
       "UnitPrice  541909.0       4.611114      96.759853 -11062.06       1.25   \n",
       "\n",
       "                 50%        75%       max  \n",
       "index      270954.00  406431.00  541908.0  \n",
       "Quantity        3.00      10.00   80995.0  \n",
       "UnitPrice       2.08       4.13   38970.0  "
      ]
     },
     "execution_count": 15,
     "metadata": {},
     "output_type": "execute_result"
    }
   ],
   "source": [
    "#checking the statistical values again, double checking the Min for both Price and Quantity\n",
    "#The Max for both Quanity and Price also need further exploration as they are too high\n",
    "df.describe().T"
   ]
  },
  {
   "cell_type": "code",
   "execution_count": 16,
   "id": "b083779a",
   "metadata": {},
   "outputs": [
    {
     "data": {
      "text/html": [
       "<div>\n",
       "<style scoped>\n",
       "    .dataframe tbody tr th:only-of-type {\n",
       "        vertical-align: middle;\n",
       "    }\n",
       "\n",
       "    .dataframe tbody tr th {\n",
       "        vertical-align: top;\n",
       "    }\n",
       "\n",
       "    .dataframe thead th {\n",
       "        text-align: right;\n",
       "    }\n",
       "</style>\n",
       "<table border=\"1\" class=\"dataframe\">\n",
       "  <thead>\n",
       "    <tr style=\"text-align: right;\">\n",
       "      <th></th>\n",
       "      <th>index</th>\n",
       "      <th>InvoiceNo</th>\n",
       "      <th>StockCode</th>\n",
       "      <th>Description</th>\n",
       "      <th>Quantity</th>\n",
       "      <th>InvoiceDate</th>\n",
       "      <th>UnitPrice</th>\n",
       "      <th>CustomerID</th>\n",
       "      <th>Country</th>\n",
       "    </tr>\n",
       "  </thead>\n",
       "  <tbody>\n",
       "  </tbody>\n",
       "</table>\n",
       "</div>"
      ],
      "text/plain": [
       "Empty DataFrame\n",
       "Columns: [index, InvoiceNo, StockCode, Description, Quantity, InvoiceDate, UnitPrice, CustomerID, Country]\n",
       "Index: []"
      ]
     },
     "execution_count": 16,
     "metadata": {},
     "output_type": "execute_result"
    }
   ],
   "source": [
    "df[df[\"CustomerID\"].isnull()]"
   ]
  },
  {
   "cell_type": "code",
   "execution_count": 17,
   "id": "e87305a5",
   "metadata": {},
   "outputs": [
    {
     "data": {
      "text/plain": [
       "index             0\n",
       "InvoiceNo         0\n",
       "StockCode         0\n",
       "Description    1454\n",
       "Quantity          0\n",
       "InvoiceDate       0\n",
       "UnitPrice         0\n",
       "CustomerID        0\n",
       "Country           0\n",
       "dtype: int64"
      ]
     },
     "execution_count": 17,
     "metadata": {},
     "output_type": "execute_result"
    }
   ],
   "source": [
    "df.isnull().sum()"
   ]
  },
  {
   "cell_type": "markdown",
   "id": "7d7d5030",
   "metadata": {},
   "source": [
    "#Since we didnt drop CustomerID with Nan and Nulls, I would like  to see now,\n",
    "#which Country are purchasing units but without CustomerID\n",
    "#this is just to explore if Customers with No ID are from a certain Country, citing that they would like to be anonymous or checking for any trend\n",
    "#Data tells they are mixed across all COuntry and not to a particular Country only. UK is highest. \n",
    "#Which Country has the highest number of customers that have no CustomerID yet the purchase is registred and sold?\n"
   ]
  },
  {
   "cell_type": "code",
   "execution_count": 18,
   "id": "d31989f7",
   "metadata": {},
   "outputs": [],
   "source": [
    "result = df[df[\"CustomerID\"] == \"NoCustomerID\"].groupby('Country').size()"
   ]
  },
  {
   "cell_type": "markdown",
   "id": "1982932c",
   "metadata": {},
   "source": [
    "#  Data Cleaning\n",
    "* Unit Price cannot be negative values, as it is money (in accounting terms the money is refunded but trend, it would complicate dataframe and te trends,, hence we remove them\n",
    "* Quantity cannot be negative as well, we will drop those numbers"
   ]
  },
  {
   "cell_type": "code",
   "execution_count": 19,
   "id": "696da8c3",
   "metadata": {},
   "outputs": [
    {
     "data": {
      "text/html": [
       "<div>\n",
       "<style scoped>\n",
       "    .dataframe tbody tr th:only-of-type {\n",
       "        vertical-align: middle;\n",
       "    }\n",
       "\n",
       "    .dataframe tbody tr th {\n",
       "        vertical-align: top;\n",
       "    }\n",
       "\n",
       "    .dataframe thead th {\n",
       "        text-align: right;\n",
       "    }\n",
       "</style>\n",
       "<table border=\"1\" class=\"dataframe\">\n",
       "  <thead>\n",
       "    <tr style=\"text-align: right;\">\n",
       "      <th></th>\n",
       "      <th>index</th>\n",
       "      <th>InvoiceNo</th>\n",
       "      <th>StockCode</th>\n",
       "      <th>Description</th>\n",
       "      <th>Quantity</th>\n",
       "      <th>InvoiceDate</th>\n",
       "      <th>UnitPrice</th>\n",
       "      <th>CustomerID</th>\n",
       "      <th>Country</th>\n",
       "    </tr>\n",
       "  </thead>\n",
       "  <tbody>\n",
       "    <tr>\n",
       "      <th>299983</th>\n",
       "      <td>299983</td>\n",
       "      <td>A563186</td>\n",
       "      <td>B</td>\n",
       "      <td>Adjust bad debt</td>\n",
       "      <td>1</td>\n",
       "      <td>8/12/2011 14:51</td>\n",
       "      <td>-11062.06</td>\n",
       "      <td>NoCustomerID</td>\n",
       "      <td>United Kingdom</td>\n",
       "    </tr>\n",
       "    <tr>\n",
       "      <th>299984</th>\n",
       "      <td>299984</td>\n",
       "      <td>A563187</td>\n",
       "      <td>B</td>\n",
       "      <td>Adjust bad debt</td>\n",
       "      <td>1</td>\n",
       "      <td>8/12/2011 14:52</td>\n",
       "      <td>-11062.06</td>\n",
       "      <td>NoCustomerID</td>\n",
       "      <td>United Kingdom</td>\n",
       "    </tr>\n",
       "  </tbody>\n",
       "</table>\n",
       "</div>"
      ],
      "text/plain": [
       "         index InvoiceNo StockCode      Description  Quantity  \\\n",
       "299983  299983   A563186         B  Adjust bad debt         1   \n",
       "299984  299984   A563187         B  Adjust bad debt         1   \n",
       "\n",
       "            InvoiceDate  UnitPrice    CustomerID         Country  \n",
       "299983  8/12/2011 14:51  -11062.06  NoCustomerID  United Kingdom  \n",
       "299984  8/12/2011 14:52  -11062.06  NoCustomerID  United Kingdom  "
      ]
     },
     "execution_count": 19,
     "metadata": {},
     "output_type": "execute_result"
    }
   ],
   "source": [
    "df[df[\"UnitPrice\"]<0]"
   ]
  },
  {
   "cell_type": "code",
   "execution_count": 20,
   "id": "c36d27a5",
   "metadata": {},
   "outputs": [],
   "source": [
    "#cleaning UnitPrice below zero and Quantity (also for it..)\n",
    "df=df[df[\"UnitPrice\"]>0]"
   ]
  },
  {
   "cell_type": "code",
   "execution_count": 21,
   "id": "b5448ebf",
   "metadata": {
    "scrolled": true
   },
   "outputs": [
    {
     "data": {
      "text/html": [
       "<div>\n",
       "<style scoped>\n",
       "    .dataframe tbody tr th:only-of-type {\n",
       "        vertical-align: middle;\n",
       "    }\n",
       "\n",
       "    .dataframe tbody tr th {\n",
       "        vertical-align: top;\n",
       "    }\n",
       "\n",
       "    .dataframe thead th {\n",
       "        text-align: right;\n",
       "    }\n",
       "</style>\n",
       "<table border=\"1\" class=\"dataframe\">\n",
       "  <thead>\n",
       "    <tr style=\"text-align: right;\">\n",
       "      <th></th>\n",
       "      <th>index</th>\n",
       "      <th>InvoiceNo</th>\n",
       "      <th>StockCode</th>\n",
       "      <th>Description</th>\n",
       "      <th>Quantity</th>\n",
       "      <th>InvoiceDate</th>\n",
       "      <th>UnitPrice</th>\n",
       "      <th>CustomerID</th>\n",
       "      <th>Country</th>\n",
       "    </tr>\n",
       "  </thead>\n",
       "  <tbody>\n",
       "  </tbody>\n",
       "</table>\n",
       "</div>"
      ],
      "text/plain": [
       "Empty DataFrame\n",
       "Columns: [index, InvoiceNo, StockCode, Description, Quantity, InvoiceDate, UnitPrice, CustomerID, Country]\n",
       "Index: []"
      ]
     },
     "execution_count": 21,
     "metadata": {},
     "output_type": "execute_result"
    }
   ],
   "source": [
    "#displaying to double check that we have no negative values on Price\n",
    "df[df[\"UnitPrice\"]<0]"
   ]
  },
  {
   "cell_type": "code",
   "execution_count": 22,
   "id": "d5248b17",
   "metadata": {
    "scrolled": false
   },
   "outputs": [
    {
     "data": {
      "text/html": [
       "<div>\n",
       "<style scoped>\n",
       "    .dataframe tbody tr th:only-of-type {\n",
       "        vertical-align: middle;\n",
       "    }\n",
       "\n",
       "    .dataframe tbody tr th {\n",
       "        vertical-align: top;\n",
       "    }\n",
       "\n",
       "    .dataframe thead th {\n",
       "        text-align: right;\n",
       "    }\n",
       "</style>\n",
       "<table border=\"1\" class=\"dataframe\">\n",
       "  <thead>\n",
       "    <tr style=\"text-align: right;\">\n",
       "      <th></th>\n",
       "      <th>index</th>\n",
       "      <th>InvoiceNo</th>\n",
       "      <th>StockCode</th>\n",
       "      <th>Description</th>\n",
       "      <th>Quantity</th>\n",
       "      <th>InvoiceDate</th>\n",
       "      <th>UnitPrice</th>\n",
       "      <th>CustomerID</th>\n",
       "      <th>Country</th>\n",
       "    </tr>\n",
       "  </thead>\n",
       "  <tbody>\n",
       "    <tr>\n",
       "      <th>141</th>\n",
       "      <td>141</td>\n",
       "      <td>C536379</td>\n",
       "      <td>D</td>\n",
       "      <td>Discount</td>\n",
       "      <td>-1</td>\n",
       "      <td>12/1/2010 9:41</td>\n",
       "      <td>27.50</td>\n",
       "      <td>14527.0</td>\n",
       "      <td>United Kingdom</td>\n",
       "    </tr>\n",
       "    <tr>\n",
       "      <th>154</th>\n",
       "      <td>154</td>\n",
       "      <td>C536383</td>\n",
       "      <td>35004C</td>\n",
       "      <td>SET OF 3 COLOURED  FLYING DUCKS</td>\n",
       "      <td>-1</td>\n",
       "      <td>12/1/2010 9:49</td>\n",
       "      <td>4.65</td>\n",
       "      <td>15311.0</td>\n",
       "      <td>United Kingdom</td>\n",
       "    </tr>\n",
       "    <tr>\n",
       "      <th>235</th>\n",
       "      <td>235</td>\n",
       "      <td>C536391</td>\n",
       "      <td>22556</td>\n",
       "      <td>PLASTERS IN TIN CIRCUS PARADE</td>\n",
       "      <td>-12</td>\n",
       "      <td>12/1/2010 10:24</td>\n",
       "      <td>1.65</td>\n",
       "      <td>17548.0</td>\n",
       "      <td>United Kingdom</td>\n",
       "    </tr>\n",
       "    <tr>\n",
       "      <th>236</th>\n",
       "      <td>236</td>\n",
       "      <td>C536391</td>\n",
       "      <td>21984</td>\n",
       "      <td>PACK OF 12 PINK PAISLEY TISSUES</td>\n",
       "      <td>-24</td>\n",
       "      <td>12/1/2010 10:24</td>\n",
       "      <td>0.29</td>\n",
       "      <td>17548.0</td>\n",
       "      <td>United Kingdom</td>\n",
       "    </tr>\n",
       "    <tr>\n",
       "      <th>237</th>\n",
       "      <td>237</td>\n",
       "      <td>C536391</td>\n",
       "      <td>21983</td>\n",
       "      <td>PACK OF 12 BLUE PAISLEY TISSUES</td>\n",
       "      <td>-24</td>\n",
       "      <td>12/1/2010 10:24</td>\n",
       "      <td>0.29</td>\n",
       "      <td>17548.0</td>\n",
       "      <td>United Kingdom</td>\n",
       "    </tr>\n",
       "    <tr>\n",
       "      <th>...</th>\n",
       "      <td>...</td>\n",
       "      <td>...</td>\n",
       "      <td>...</td>\n",
       "      <td>...</td>\n",
       "      <td>...</td>\n",
       "      <td>...</td>\n",
       "      <td>...</td>\n",
       "      <td>...</td>\n",
       "      <td>...</td>\n",
       "    </tr>\n",
       "    <tr>\n",
       "      <th>540449</th>\n",
       "      <td>540449</td>\n",
       "      <td>C581490</td>\n",
       "      <td>23144</td>\n",
       "      <td>ZINC T-LIGHT HOLDER STARS SMALL</td>\n",
       "      <td>-11</td>\n",
       "      <td>12/9/2011 9:57</td>\n",
       "      <td>0.83</td>\n",
       "      <td>14397.0</td>\n",
       "      <td>United Kingdom</td>\n",
       "    </tr>\n",
       "    <tr>\n",
       "      <th>541541</th>\n",
       "      <td>541541</td>\n",
       "      <td>C581499</td>\n",
       "      <td>M</td>\n",
       "      <td>Manual</td>\n",
       "      <td>-1</td>\n",
       "      <td>12/9/2011 10:28</td>\n",
       "      <td>224.69</td>\n",
       "      <td>15498.0</td>\n",
       "      <td>United Kingdom</td>\n",
       "    </tr>\n",
       "    <tr>\n",
       "      <th>541715</th>\n",
       "      <td>541715</td>\n",
       "      <td>C581568</td>\n",
       "      <td>21258</td>\n",
       "      <td>VICTORIAN SEWING BOX LARGE</td>\n",
       "      <td>-5</td>\n",
       "      <td>12/9/2011 11:57</td>\n",
       "      <td>10.95</td>\n",
       "      <td>15311.0</td>\n",
       "      <td>United Kingdom</td>\n",
       "    </tr>\n",
       "    <tr>\n",
       "      <th>541716</th>\n",
       "      <td>541716</td>\n",
       "      <td>C581569</td>\n",
       "      <td>84978</td>\n",
       "      <td>HANGING HEART JAR T-LIGHT HOLDER</td>\n",
       "      <td>-1</td>\n",
       "      <td>12/9/2011 11:58</td>\n",
       "      <td>1.25</td>\n",
       "      <td>17315.0</td>\n",
       "      <td>United Kingdom</td>\n",
       "    </tr>\n",
       "    <tr>\n",
       "      <th>541717</th>\n",
       "      <td>541717</td>\n",
       "      <td>C581569</td>\n",
       "      <td>20979</td>\n",
       "      <td>36 PENCILS TUBE RED RETROSPOT</td>\n",
       "      <td>-5</td>\n",
       "      <td>12/9/2011 11:58</td>\n",
       "      <td>1.25</td>\n",
       "      <td>17315.0</td>\n",
       "      <td>United Kingdom</td>\n",
       "    </tr>\n",
       "  </tbody>\n",
       "</table>\n",
       "<p>9288 rows × 9 columns</p>\n",
       "</div>"
      ],
      "text/plain": [
       "         index InvoiceNo StockCode                       Description  \\\n",
       "141        141   C536379         D                          Discount   \n",
       "154        154   C536383    35004C   SET OF 3 COLOURED  FLYING DUCKS   \n",
       "235        235   C536391     22556    PLASTERS IN TIN CIRCUS PARADE    \n",
       "236        236   C536391     21984  PACK OF 12 PINK PAISLEY TISSUES    \n",
       "237        237   C536391     21983  PACK OF 12 BLUE PAISLEY TISSUES    \n",
       "...        ...       ...       ...                               ...   \n",
       "540449  540449   C581490     23144   ZINC T-LIGHT HOLDER STARS SMALL   \n",
       "541541  541541   C581499         M                            Manual   \n",
       "541715  541715   C581568     21258        VICTORIAN SEWING BOX LARGE   \n",
       "541716  541716   C581569     84978  HANGING HEART JAR T-LIGHT HOLDER   \n",
       "541717  541717   C581569     20979     36 PENCILS TUBE RED RETROSPOT   \n",
       "\n",
       "        Quantity      InvoiceDate  UnitPrice CustomerID         Country  \n",
       "141           -1   12/1/2010 9:41      27.50    14527.0  United Kingdom  \n",
       "154           -1   12/1/2010 9:49       4.65    15311.0  United Kingdom  \n",
       "235          -12  12/1/2010 10:24       1.65    17548.0  United Kingdom  \n",
       "236          -24  12/1/2010 10:24       0.29    17548.0  United Kingdom  \n",
       "237          -24  12/1/2010 10:24       0.29    17548.0  United Kingdom  \n",
       "...          ...              ...        ...        ...             ...  \n",
       "540449       -11   12/9/2011 9:57       0.83    14397.0  United Kingdom  \n",
       "541541        -1  12/9/2011 10:28     224.69    15498.0  United Kingdom  \n",
       "541715        -5  12/9/2011 11:57      10.95    15311.0  United Kingdom  \n",
       "541716        -1  12/9/2011 11:58       1.25    17315.0  United Kingdom  \n",
       "541717        -5  12/9/2011 11:58       1.25    17315.0  United Kingdom  \n",
       "\n",
       "[9288 rows x 9 columns]"
      ]
     },
     "execution_count": 22,
     "metadata": {},
     "output_type": "execute_result"
    }
   ],
   "source": [
    "#Display the Quantity below zero\n",
    "df[df[\"Quantity\"]<0]"
   ]
  },
  {
   "cell_type": "code",
   "execution_count": 23,
   "id": "59239b68",
   "metadata": {},
   "outputs": [],
   "source": [
    "df=df[df[\"Quantity\"]>0]\n",
    "## Quantity clean up so that we dont have negative Quanity value.. "
   ]
  },
  {
   "cell_type": "code",
   "execution_count": 24,
   "id": "b3ae3dc2",
   "metadata": {
    "scrolled": true
   },
   "outputs": [
    {
     "data": {
      "text/html": [
       "<div>\n",
       "<style scoped>\n",
       "    .dataframe tbody tr th:only-of-type {\n",
       "        vertical-align: middle;\n",
       "    }\n",
       "\n",
       "    .dataframe tbody tr th {\n",
       "        vertical-align: top;\n",
       "    }\n",
       "\n",
       "    .dataframe thead th {\n",
       "        text-align: right;\n",
       "    }\n",
       "</style>\n",
       "<table border=\"1\" class=\"dataframe\">\n",
       "  <thead>\n",
       "    <tr style=\"text-align: right;\">\n",
       "      <th></th>\n",
       "      <th>index</th>\n",
       "      <th>InvoiceNo</th>\n",
       "      <th>StockCode</th>\n",
       "      <th>Description</th>\n",
       "      <th>Quantity</th>\n",
       "      <th>InvoiceDate</th>\n",
       "      <th>UnitPrice</th>\n",
       "      <th>CustomerID</th>\n",
       "      <th>Country</th>\n",
       "    </tr>\n",
       "  </thead>\n",
       "  <tbody>\n",
       "  </tbody>\n",
       "</table>\n",
       "</div>"
      ],
      "text/plain": [
       "Empty DataFrame\n",
       "Columns: [index, InvoiceNo, StockCode, Description, Quantity, InvoiceDate, UnitPrice, CustomerID, Country]\n",
       "Index: []"
      ]
     },
     "execution_count": 24,
     "metadata": {},
     "output_type": "execute_result"
    }
   ],
   "source": [
    "#Display the Quantity below zero,checking... \n",
    "df[df[\"Quantity\"]<0]"
   ]
  },
  {
   "cell_type": "markdown",
   "id": "546e41b9",
   "metadata": {},
   "source": [
    "# Visualise"
   ]
  },
  {
   "cell_type": "code",
   "execution_count": 25,
   "id": "b1a2a102",
   "metadata": {},
   "outputs": [
    {
     "data": {
      "text/plain": [
       "<Axes: >"
      ]
     },
     "execution_count": 25,
     "metadata": {},
     "output_type": "execute_result"
    },
    {
     "data": {
      "image/png": "[encoded data removed]",
      "text/plain": [
       "<Figure size 640x480 with 1 Axes>"
      ]
     },
     "metadata": {},
     "output_type": "display_data"
    }
   ],
   "source": [
    "#checking outliers for UnitPrice\n",
    "# we have a few dots 8000  12000 14000 but i am not going to remove them, as they might affect the dataframe and outputs.. \n",
    "df[\"UnitPrice\"].plot(kind=\"box\")"
   ]
  },
  {
   "cell_type": "code",
   "execution_count": 26,
   "id": "dd029233",
   "metadata": {},
   "outputs": [
    {
     "data": {
      "text/plain": [
       "<Axes: >"
      ]
     },
     "execution_count": 26,
     "metadata": {},
     "output_type": "execute_result"
    },
    {
     "data": {
      "image/png": "[encoded data removed]",
      "text/plain": [
       "<Figure size 640x480 with 1 Axes>"
      ]
     },
     "metadata": {},
     "output_type": "display_data"
    }
   ],
   "source": [
    "#checking outliers for Quantity\n",
    "df[\"Quantity\"].plot(kind=\"box\")"
   ]
  },
  {
   "cell_type": "code",
   "execution_count": 27,
   "id": "622647dc",
   "metadata": {},
   "outputs": [
    {
     "data": {
      "image/png": "[encoded data removed]",
      "text/plain": [
       "<Figure size 640x480 with 1 Axes>"
      ]
     },
     "metadata": {},
     "output_type": "display_data"
    }
   ],
   "source": [
    "#Sometimes we remove the outliers, as they could skew the trend  on Quantity.. \n",
    "#df=df[df[\"Quantity\"]<40000]\n",
    "# So i Created a filtered DataFrame without modifying the original one\n",
    "#Just to plot and see how the Quantity looks when filering all Quantity >40 000 , supposedly outliers.\n",
    "filtered_df = df[df[\"Quantity\"] < 40000]\n",
    "\n",
    "# Select the top 10 countries based on the total Quantity\n",
    "top_10_countries = filtered_df.groupby('Country')['Quantity'].sum().nlargest(10).index\n",
    "filtered_df_top_10 = filtered_df[filtered_df['Country'].isin(top_10_countries)]\n",
    "\n",
    "# Plot using the filtered DataFrame with only the top 10 countries\n",
    "sns.scatterplot(data=filtered_df_top_10, x=\"Quantity\", y=\"UnitPrice\", hue=\"Country\")\n",
    "plt.title('Scatter Plot of Quantity vs UnitPrice (Top 10 Countries)')\n",
    "plt.xlabel('Quantity')\n",
    "plt.ylabel('Unit Price')\n",
    "plt.show()"
   ]
  },
  {
   "cell_type": "markdown",
   "id": "0862032f",
   "metadata": {},
   "source": [
    "#### checking outliers for Quantity after removing outliers\n",
    "#### Quantities now look spread out evenly but distorting the dataframe.. therefore we keep outliers with this in mind. \n",
    "#### There are 2 x Cusotmer who bought big Quantity of units, thereby making it biggest purchase from one customers.. \n"
   ]
  },
  {
   "cell_type": "code",
   "execution_count": 28,
   "id": "a21a7de2",
   "metadata": {},
   "outputs": [
    {
     "data": {
      "text/plain": [
       "<Axes: >"
      ]
     },
     "execution_count": 28,
     "metadata": {},
     "output_type": "execute_result"
    },
    {
     "data": {
      "image/png": "[encoded data removed]",
      "text/plain": [
       "<Figure size 640x480 with 1 Axes>"
      ]
     },
     "metadata": {},
     "output_type": "display_data"
    }
   ],
   "source": [
    "#checking outliers After removing Quantity\n",
    "filtered_df[\"Quantity\"].plot(kind=\"box\")"
   ]
  },
  {
   "cell_type": "markdown",
   "id": "3379c749",
   "metadata": {},
   "source": [
    "# Dropping Outliers\n",
    "### I have decided to keep both Quatity and Price Outliers as they make a huge differece to the output of the datafarme if i remove them\n",
    "## The Outliers for Quantity are items with Quantity 80 000 and 70 000 and removing that, we have Quantity with Max of 5000 value, so that changes the output of Sales, Prices and Revenue.\n",
    "# so I decided to plot both Price outlier and Quantity outlier but I am keeping them on the dataframe.. \n"
   ]
  },
  {
   "cell_type": "code",
   "execution_count": 29,
   "id": "6e0e5e66",
   "metadata": {},
   "outputs": [
    {
     "name": "stdout",
     "output_type": "stream",
     "text": [
      "index          530104\n",
      "InvoiceNo       19960\n",
      "StockCode        3922\n",
      "Description      4026\n",
      "Quantity          375\n",
      "InvoiceDate     18499\n",
      "UnitPrice        1291\n",
      "CustomerID       4339\n",
      "Country            38\n",
      "dtype: int64\n"
     ]
    }
   ],
   "source": [
    "UniqueCounts = df.nunique()\n",
    "print(UniqueCounts)"
   ]
  },
  {
   "cell_type": "code",
   "execution_count": 30,
   "id": "d31a6aca",
   "metadata": {},
   "outputs": [
    {
     "data": {
      "text/plain": [
       "array(['United Kingdom', 'France', 'Australia', 'Netherlands', 'Germany',\n",
       "       'Norway', 'EIRE', 'Switzerland', 'Spain', 'Poland', 'Portugal',\n",
       "       'Italy', 'Belgium', 'Lithuania', 'Japan', 'Iceland',\n",
       "       'Channel Islands', 'Denmark', 'Cyprus', 'Sweden', 'Finland',\n",
       "       'Austria', 'Bahrain', 'Israel', 'Greece', 'Hong Kong', 'Singapore',\n",
       "       'Lebanon', 'United Arab Emirates', 'Saudi Arabia',\n",
       "       'Czech Republic', 'Canada', 'Unspecified', 'Brazil', 'USA',\n",
       "       'European Community', 'Malta', 'RSA'], dtype=object)"
      ]
     },
     "execution_count": 30,
     "metadata": {},
     "output_type": "execute_result"
    }
   ],
   "source": [
    "#how many Unique Coutries are on the dataframe just to see list of different purchase Country\n",
    "df[\"Country\"].unique()"
   ]
  },
  {
   "cell_type": "code",
   "execution_count": 31,
   "id": "5fe55474",
   "metadata": {},
   "outputs": [
    {
     "data": {
      "text/html": [
       "<div>\n",
       "<style scoped>\n",
       "    .dataframe tbody tr th:only-of-type {\n",
       "        vertical-align: middle;\n",
       "    }\n",
       "\n",
       "    .dataframe tbody tr th {\n",
       "        vertical-align: top;\n",
       "    }\n",
       "\n",
       "    .dataframe thead th {\n",
       "        text-align: right;\n",
       "    }\n",
       "</style>\n",
       "<table border=\"1\" class=\"dataframe\">\n",
       "  <thead>\n",
       "    <tr style=\"text-align: right;\">\n",
       "      <th></th>\n",
       "      <th>Country</th>\n",
       "      <th>UnitPrice</th>\n",
       "    </tr>\n",
       "  </thead>\n",
       "  <tbody>\n",
       "    <tr>\n",
       "      <th>0</th>\n",
       "      <td>United Kingdom</td>\n",
       "      <td>1867568.034</td>\n",
       "    </tr>\n",
       "    <tr>\n",
       "      <th>1</th>\n",
       "      <td>EIRE</td>\n",
       "      <td>38489.950</td>\n",
       "    </tr>\n",
       "    <tr>\n",
       "      <th>2</th>\n",
       "      <td>France</td>\n",
       "      <td>36992.790</td>\n",
       "    </tr>\n",
       "    <tr>\n",
       "      <th>3</th>\n",
       "      <td>Germany</td>\n",
       "      <td>33532.140</td>\n",
       "    </tr>\n",
       "    <tr>\n",
       "      <th>4</th>\n",
       "      <td>Singapore</td>\n",
       "      <td>12949.990</td>\n",
       "    </tr>\n",
       "    <tr>\n",
       "      <th>5</th>\n",
       "      <td>Spain</td>\n",
       "      <td>9504.340</td>\n",
       "    </tr>\n",
       "    <tr>\n",
       "      <th>6</th>\n",
       "      <td>Portugal</td>\n",
       "      <td>8770.720</td>\n",
       "    </tr>\n",
       "    <tr>\n",
       "      <th>7</th>\n",
       "      <td>Belgium</td>\n",
       "      <td>7372.850</td>\n",
       "    </tr>\n",
       "    <tr>\n",
       "      <th>8</th>\n",
       "      <td>Hong Kong</td>\n",
       "      <td>6666.740</td>\n",
       "    </tr>\n",
       "    <tr>\n",
       "      <th>9</th>\n",
       "      <td>Switzerland</td>\n",
       "      <td>6634.360</td>\n",
       "    </tr>\n",
       "    <tr>\n",
       "      <th>10</th>\n",
       "      <td>Netherlands</td>\n",
       "      <td>6247.730</td>\n",
       "    </tr>\n",
       "    <tr>\n",
       "      <th>11</th>\n",
       "      <td>Norway</td>\n",
       "      <td>5662.470</td>\n",
       "    </tr>\n",
       "    <tr>\n",
       "      <th>12</th>\n",
       "      <td>Finland</td>\n",
       "      <td>3628.440</td>\n",
       "    </tr>\n",
       "    <tr>\n",
       "      <th>13</th>\n",
       "      <td>Australia</td>\n",
       "      <td>3612.500</td>\n",
       "    </tr>\n",
       "    <tr>\n",
       "      <th>14</th>\n",
       "      <td>Italy</td>\n",
       "      <td>3576.210</td>\n",
       "    </tr>\n",
       "    <tr>\n",
       "      <th>15</th>\n",
       "      <td>Cyprus</td>\n",
       "      <td>3506.180</td>\n",
       "    </tr>\n",
       "    <tr>\n",
       "      <th>16</th>\n",
       "      <td>Channel Islands</td>\n",
       "      <td>3389.650</td>\n",
       "    </tr>\n",
       "    <tr>\n",
       "      <th>17</th>\n",
       "      <td>Sweden</td>\n",
       "      <td>1695.790</td>\n",
       "    </tr>\n",
       "    <tr>\n",
       "      <th>18</th>\n",
       "      <td>Austria</td>\n",
       "      <td>1693.900</td>\n",
       "    </tr>\n",
       "    <tr>\n",
       "      <th>19</th>\n",
       "      <td>Poland</td>\n",
       "      <td>1377.210</td>\n",
       "    </tr>\n",
       "    <tr>\n",
       "      <th>20</th>\n",
       "      <td>Unspecified</td>\n",
       "      <td>1204.010</td>\n",
       "    </tr>\n",
       "    <tr>\n",
       "      <th>21</th>\n",
       "      <td>Denmark</td>\n",
       "      <td>1195.550</td>\n",
       "    </tr>\n",
       "    <tr>\n",
       "      <th>22</th>\n",
       "      <td>Israel</td>\n",
       "      <td>1070.980</td>\n",
       "    </tr>\n",
       "    <tr>\n",
       "      <th>23</th>\n",
       "      <td>Canada</td>\n",
       "      <td>910.580</td>\n",
       "    </tr>\n",
       "    <tr>\n",
       "      <th>24</th>\n",
       "      <td>Greece</td>\n",
       "      <td>663.290</td>\n",
       "    </tr>\n",
       "    <tr>\n",
       "      <th>25</th>\n",
       "      <td>Japan</td>\n",
       "      <td>657.210</td>\n",
       "    </tr>\n",
       "    <tr>\n",
       "      <th>26</th>\n",
       "      <td>Malta</td>\n",
       "      <td>545.190</td>\n",
       "    </tr>\n",
       "    <tr>\n",
       "      <th>27</th>\n",
       "      <td>Iceland</td>\n",
       "      <td>481.210</td>\n",
       "    </tr>\n",
       "    <tr>\n",
       "      <th>28</th>\n",
       "      <td>USA</td>\n",
       "      <td>413.300</td>\n",
       "    </tr>\n",
       "    <tr>\n",
       "      <th>29</th>\n",
       "      <td>European Community</td>\n",
       "      <td>289.800</td>\n",
       "    </tr>\n",
       "    <tr>\n",
       "      <th>30</th>\n",
       "      <td>RSA</td>\n",
       "      <td>248.100</td>\n",
       "    </tr>\n",
       "    <tr>\n",
       "      <th>31</th>\n",
       "      <td>Lebanon</td>\n",
       "      <td>242.440</td>\n",
       "    </tr>\n",
       "    <tr>\n",
       "      <th>32</th>\n",
       "      <td>United Arab Emirates</td>\n",
       "      <td>229.890</td>\n",
       "    </tr>\n",
       "    <tr>\n",
       "      <th>33</th>\n",
       "      <td>Brazil</td>\n",
       "      <td>142.600</td>\n",
       "    </tr>\n",
       "    <tr>\n",
       "      <th>34</th>\n",
       "      <td>Lithuania</td>\n",
       "      <td>99.440</td>\n",
       "    </tr>\n",
       "    <tr>\n",
       "      <th>35</th>\n",
       "      <td>Bahrain</td>\n",
       "      <td>82.760</td>\n",
       "    </tr>\n",
       "    <tr>\n",
       "      <th>36</th>\n",
       "      <td>Czech Republic</td>\n",
       "      <td>78.270</td>\n",
       "    </tr>\n",
       "    <tr>\n",
       "      <th>37</th>\n",
       "      <td>Saudi Arabia</td>\n",
       "      <td>21.160</td>\n",
       "    </tr>\n",
       "  </tbody>\n",
       "</table>\n",
       "</div>"
      ],
      "text/plain": [
       "                 Country    UnitPrice\n",
       "0         United Kingdom  1867568.034\n",
       "1                   EIRE    38489.950\n",
       "2                 France    36992.790\n",
       "3                Germany    33532.140\n",
       "4              Singapore    12949.990\n",
       "5                  Spain     9504.340\n",
       "6               Portugal     8770.720\n",
       "7                Belgium     7372.850\n",
       "8              Hong Kong     6666.740\n",
       "9            Switzerland     6634.360\n",
       "10           Netherlands     6247.730\n",
       "11                Norway     5662.470\n",
       "12               Finland     3628.440\n",
       "13             Australia     3612.500\n",
       "14                 Italy     3576.210\n",
       "15                Cyprus     3506.180\n",
       "16       Channel Islands     3389.650\n",
       "17                Sweden     1695.790\n",
       "18               Austria     1693.900\n",
       "19                Poland     1377.210\n",
       "20           Unspecified     1204.010\n",
       "21               Denmark     1195.550\n",
       "22                Israel     1070.980\n",
       "23                Canada      910.580\n",
       "24                Greece      663.290\n",
       "25                 Japan      657.210\n",
       "26                 Malta      545.190\n",
       "27               Iceland      481.210\n",
       "28                   USA      413.300\n",
       "29    European Community      289.800\n",
       "30                   RSA      248.100\n",
       "31               Lebanon      242.440\n",
       "32  United Arab Emirates      229.890\n",
       "33                Brazil      142.600\n",
       "34             Lithuania       99.440\n",
       "35               Bahrain       82.760\n",
       "36        Czech Republic       78.270\n",
       "37          Saudi Arabia       21.160"
      ]
     },
     "execution_count": 31,
     "metadata": {},
     "output_type": "execute_result"
    }
   ],
   "source": [
    "#Sum up the UnitPrice of items purchase and group by Country..Just to see which Country is topping the list\n",
    "df.groupby([\"Country\"])[\"UnitPrice\"].sum().sort_values(ascending=False).reset_index()"
   ]
  },
  {
   "cell_type": "code",
   "execution_count": 32,
   "id": "ebdc1309",
   "metadata": {},
   "outputs": [],
   "source": [
    "#df.groupby([\"Country\"])[\"Revenue\"].sum().sort_values(ascending=False).reset_index().head(10)"
   ]
  },
  {
   "cell_type": "code",
   "execution_count": 33,
   "id": "4c237691",
   "metadata": {},
   "outputs": [],
   "source": [
    "top_10=df.groupby([\"Country\"])[\"UnitPrice\"].sum().sort_values(ascending=False).reset_index().head(10)"
   ]
  },
  {
   "cell_type": "code",
   "execution_count": 34,
   "id": "df49de43",
   "metadata": {},
   "outputs": [
    {
     "name": "stdout",
     "output_type": "stream",
     "text": [
      "Country\n",
      "Bahrain                2\n",
      "EIRE                 711\n",
      "France                66\n",
      "Hong Kong            288\n",
      "Israel                47\n",
      "Portugal              39\n",
      "Switzerland          125\n",
      "United Kingdom    133600\n",
      "Unspecified          202\n",
      "dtype: int64\n"
     ]
    }
   ],
   "source": [
    "print(result)"
   ]
  },
  {
   "cell_type": "code",
   "execution_count": 35,
   "id": "2a0db557",
   "metadata": {},
   "outputs": [
    {
     "data": {
      "text/html": [
       "<div>\n",
       "<style scoped>\n",
       "    .dataframe tbody tr th:only-of-type {\n",
       "        vertical-align: middle;\n",
       "    }\n",
       "\n",
       "    .dataframe tbody tr th {\n",
       "        vertical-align: top;\n",
       "    }\n",
       "\n",
       "    .dataframe thead th {\n",
       "        text-align: right;\n",
       "    }\n",
       "</style>\n",
       "<table border=\"1\" class=\"dataframe\">\n",
       "  <thead>\n",
       "    <tr style=\"text-align: right;\">\n",
       "      <th></th>\n",
       "      <th>index</th>\n",
       "      <th>Description</th>\n",
       "    </tr>\n",
       "  </thead>\n",
       "  <tbody>\n",
       "    <tr>\n",
       "      <th>0</th>\n",
       "      <td>WHITE HANGING HEART T-LIGHT HOLDER</td>\n",
       "      <td>2323</td>\n",
       "    </tr>\n",
       "    <tr>\n",
       "      <th>1</th>\n",
       "      <td>JUMBO BAG RED RETROSPOT</td>\n",
       "      <td>2112</td>\n",
       "    </tr>\n",
       "    <tr>\n",
       "      <th>2</th>\n",
       "      <td>REGENCY CAKESTAND 3 TIER</td>\n",
       "      <td>2017</td>\n",
       "    </tr>\n",
       "    <tr>\n",
       "      <th>3</th>\n",
       "      <td>PARTY BUNTING</td>\n",
       "      <td>1706</td>\n",
       "    </tr>\n",
       "    <tr>\n",
       "      <th>4</th>\n",
       "      <td>LUNCH BAG RED RETROSPOT</td>\n",
       "      <td>1594</td>\n",
       "    </tr>\n",
       "    <tr>\n",
       "      <th>5</th>\n",
       "      <td>ASSORTED COLOUR BIRD ORNAMENT</td>\n",
       "      <td>1489</td>\n",
       "    </tr>\n",
       "    <tr>\n",
       "      <th>6</th>\n",
       "      <td>SET OF 3 CAKE TINS PANTRY DESIGN</td>\n",
       "      <td>1399</td>\n",
       "    </tr>\n",
       "    <tr>\n",
       "      <th>7</th>\n",
       "      <td>PACK OF 72 RETROSPOT CAKE CASES</td>\n",
       "      <td>1370</td>\n",
       "    </tr>\n",
       "    <tr>\n",
       "      <th>8</th>\n",
       "      <td>LUNCH BAG  BLACK SKULL.</td>\n",
       "      <td>1328</td>\n",
       "    </tr>\n",
       "    <tr>\n",
       "      <th>9</th>\n",
       "      <td>NATURAL SLATE HEART CHALKBOARD</td>\n",
       "      <td>1263</td>\n",
       "    </tr>\n",
       "    <tr>\n",
       "      <th>10</th>\n",
       "      <td>JUMBO BAG PINK POLKADOT</td>\n",
       "      <td>1238</td>\n",
       "    </tr>\n",
       "    <tr>\n",
       "      <th>11</th>\n",
       "      <td>HEART OF WICKER SMALL</td>\n",
       "      <td>1226</td>\n",
       "    </tr>\n",
       "    <tr>\n",
       "      <th>12</th>\n",
       "      <td>PAPER CHAIN KIT 50'S CHRISTMAS</td>\n",
       "      <td>1200</td>\n",
       "    </tr>\n",
       "    <tr>\n",
       "      <th>13</th>\n",
       "      <td>JUMBO STORAGE BAG SUKI</td>\n",
       "      <td>1197</td>\n",
       "    </tr>\n",
       "    <tr>\n",
       "      <th>14</th>\n",
       "      <td>JUMBO SHOPPER VINTAGE RED PAISLEY</td>\n",
       "      <td>1190</td>\n",
       "    </tr>\n",
       "    <tr>\n",
       "      <th>15</th>\n",
       "      <td>LUNCH BAG SPACEBOY DESIGN</td>\n",
       "      <td>1179</td>\n",
       "    </tr>\n",
       "    <tr>\n",
       "      <th>16</th>\n",
       "      <td>LUNCH BAG CARS BLUE</td>\n",
       "      <td>1174</td>\n",
       "    </tr>\n",
       "    <tr>\n",
       "      <th>17</th>\n",
       "      <td>JAM MAKING SET PRINTED</td>\n",
       "      <td>1169</td>\n",
       "    </tr>\n",
       "    <tr>\n",
       "      <th>18</th>\n",
       "      <td>SPOTTY BUNTING</td>\n",
       "      <td>1158</td>\n",
       "    </tr>\n",
       "    <tr>\n",
       "      <th>19</th>\n",
       "      <td>JAM MAKING SET WITH JARS</td>\n",
       "      <td>1141</td>\n",
       "    </tr>\n",
       "  </tbody>\n",
       "</table>\n",
       "</div>"
      ],
      "text/plain": [
       "                                 index  Description\n",
       "0   WHITE HANGING HEART T-LIGHT HOLDER         2323\n",
       "1              JUMBO BAG RED RETROSPOT         2112\n",
       "2             REGENCY CAKESTAND 3 TIER         2017\n",
       "3                        PARTY BUNTING         1706\n",
       "4              LUNCH BAG RED RETROSPOT         1594\n",
       "5        ASSORTED COLOUR BIRD ORNAMENT         1489\n",
       "6    SET OF 3 CAKE TINS PANTRY DESIGN          1399\n",
       "7      PACK OF 72 RETROSPOT CAKE CASES         1370\n",
       "8              LUNCH BAG  BLACK SKULL.         1328\n",
       "9      NATURAL SLATE HEART CHALKBOARD          1263\n",
       "10             JUMBO BAG PINK POLKADOT         1238\n",
       "11               HEART OF WICKER SMALL         1226\n",
       "12     PAPER CHAIN KIT 50'S CHRISTMAS          1200\n",
       "13              JUMBO STORAGE BAG SUKI         1197\n",
       "14   JUMBO SHOPPER VINTAGE RED PAISLEY         1190\n",
       "15          LUNCH BAG SPACEBOY DESIGN          1179\n",
       "16                 LUNCH BAG CARS BLUE         1174\n",
       "17              JAM MAKING SET PRINTED         1169\n",
       "18                      SPOTTY BUNTING         1158\n",
       "19            JAM MAKING SET WITH JARS         1141"
      ]
     },
     "execution_count": 35,
     "metadata": {},
     "output_type": "execute_result"
    }
   ],
   "source": [
    "df[\"Description\"].value_counts(ascending=False).reset_index().head(20)"
   ]
  },
  {
   "cell_type": "code",
   "execution_count": 36,
   "id": "f85dfc50",
   "metadata": {},
   "outputs": [
    {
     "data": {
      "image/png": "[encoded data removed]",
      "text/plain": [
       "<Figure size 640x480 with 1 Axes>"
      ]
     },
     "metadata": {},
     "output_type": "display_data"
    }
   ],
   "source": [
    "#explore the Quantity DISTRIBUTION\n",
    "sns.histplot(df['Quantity'], bins=30, kde=True)\n",
    "plt.title('Distribution of Quantity')\n",
    "plt.show()"
   ]
  },
  {
   "cell_type": "code",
   "execution_count": 37,
   "id": "618fbb88",
   "metadata": {},
   "outputs": [
    {
     "data": {
      "image/png": "[encoded data removed]",
      "text/plain": [
       "<Figure size 640x480 with 2 Axes>"
      ]
     },
     "metadata": {},
     "output_type": "display_data"
    }
   ],
   "source": [
    "# What is the correlation between all the variables\n",
    "# My Columns that have Numbers are only these 2 below, the rest are data types that we cannot compute correlations\n",
    "numeric_columns = df.select_dtypes(include=[np.number])\n",
    "numeric_columns.dropna(inplace=True)\n",
    "correlation_matrix = numeric_columns.corr()\n",
    "sns.heatmap(correlation_matrix, annot=True, cmap='coolwarm', fmt=\".2f\")\n",
    "plt.title('Correlation Matrix')\n",
    "plt.show()"
   ]
  },
  {
   "cell_type": "markdown",
   "id": "48f5dcb0",
   "metadata": {},
   "source": [
    "#### The correlation plot is not useable as i am unable to read any insights \n",
    "#### My Columns that have Numbers are only these 2 below, the rest are data types that we cannot compute correlations"
   ]
  },
  {
   "cell_type": "markdown",
   "id": "b6df6720",
   "metadata": {},
   "source": [
    "# Evaluation\n",
    "###  Here we re-visit each question and answer each based on the data and graphs we have.. \n",
    "###  All the 3 Questions answered below.. "
   ]
  },
  {
   "cell_type": "markdown",
   "id": "b16d4b44",
   "metadata": {},
   "source": [
    "# Question 1:  Which Country has the highest online purchases?\n",
    "Country with the highest transactions is United Kingdom..\n"
   ]
  },
  {
   "cell_type": "code",
   "execution_count": 38,
   "id": "938a5e48",
   "metadata": {},
   "outputs": [
    {
     "data": {
      "text/plain": [
       "<Axes: xlabel='UnitPrice', ylabel='Country'>"
      ]
     },
     "execution_count": 38,
     "metadata": {},
     "output_type": "execute_result"
    },
    {
     "data": {
      "image/png": "[encoded data removed]",
      "text/plain": [
       "<Figure size 640x480 with 1 Axes>"
      ]
     },
     "metadata": {},
     "output_type": "display_data"
    }
   ],
   "source": [
    "sns.barplot(data=top_10,y=\"Country\",x=\"UnitPrice\")"
   ]
  },
  {
   "cell_type": "code",
   "execution_count": null,
   "id": "191f9876",
   "metadata": {},
   "outputs": [],
   "source": []
  },
  {
   "cell_type": "markdown",
   "id": "bfb58e5d",
   "metadata": {},
   "source": [
    "## What is the fast-selling item from the stock list?\n",
    "\n",
    "  Stock Code 23843, which describes the item \" PAPER CRAFT , LITTLE BIRDIE\"  seems to be the highest selling item\n"
   ]
  },
  {
   "cell_type": "code",
   "execution_count": 39,
   "id": "7d11a1d1",
   "metadata": {},
   "outputs": [
    {
     "data": {
      "image/png": "[encoded data removed]",
      "text/plain": [
       "<Figure size 640x480 with 1 Axes>"
      ]
     },
     "metadata": {},
     "output_type": "display_data"
    }
   ],
   "source": [
    "Highest_Seller=df.groupby('StockCode')['Quantity'].sum().sort_values(ascending=False).head(10)\n",
    "sns.barplot(x=Highest_Seller.values, y=Highest_Seller.index, palette='viridis')\n",
    "plt.title('Highest Seller')\n",
    "plt.xlabel('Total Numbers Sold')\n",
    "plt.ylabel('StockCode')\n",
    "plt.show()"
   ]
  },
  {
   "cell_type": "markdown",
   "id": "7af54424",
   "metadata": {},
   "source": [
    "## checking the name of the stockCode correlating with the most selling item. "
   ]
  },
  {
   "cell_type": "code",
   "execution_count": 40,
   "id": "b76768a9",
   "metadata": {
    "scrolled": true
   },
   "outputs": [
    {
     "data": {
      "text/html": [
       "<div>\n",
       "<style scoped>\n",
       "    .dataframe tbody tr th:only-of-type {\n",
       "        vertical-align: middle;\n",
       "    }\n",
       "\n",
       "    .dataframe tbody tr th {\n",
       "        vertical-align: top;\n",
       "    }\n",
       "\n",
       "    .dataframe thead th {\n",
       "        text-align: right;\n",
       "    }\n",
       "</style>\n",
       "<table border=\"1\" class=\"dataframe\">\n",
       "  <thead>\n",
       "    <tr style=\"text-align: right;\">\n",
       "      <th></th>\n",
       "      <th>index</th>\n",
       "      <th>InvoiceNo</th>\n",
       "      <th>StockCode</th>\n",
       "      <th>Description</th>\n",
       "      <th>Quantity</th>\n",
       "      <th>InvoiceDate</th>\n",
       "      <th>UnitPrice</th>\n",
       "      <th>CustomerID</th>\n",
       "      <th>Country</th>\n",
       "    </tr>\n",
       "  </thead>\n",
       "  <tbody>\n",
       "    <tr>\n",
       "      <th>540421</th>\n",
       "      <td>540421</td>\n",
       "      <td>581483</td>\n",
       "      <td>23843</td>\n",
       "      <td>PAPER CRAFT , LITTLE BIRDIE</td>\n",
       "      <td>80995</td>\n",
       "      <td>12/9/2011 9:15</td>\n",
       "      <td>2.08</td>\n",
       "      <td>16446.0</td>\n",
       "      <td>United Kingdom</td>\n",
       "    </tr>\n",
       "  </tbody>\n",
       "</table>\n",
       "</div>"
      ],
      "text/plain": [
       "         index InvoiceNo StockCode                  Description  Quantity  \\\n",
       "540421  540421    581483     23843  PAPER CRAFT , LITTLE BIRDIE     80995   \n",
       "\n",
       "           InvoiceDate  UnitPrice CustomerID         Country  \n",
       "540421  12/9/2011 9:15       2.08    16446.0  United Kingdom  "
      ]
     },
     "execution_count": 40,
     "metadata": {},
     "output_type": "execute_result"
    }
   ],
   "source": [
    "df[df[\"StockCode\"]==\"23843\"]"
   ]
  },
  {
   "cell_type": "code",
   "execution_count": 41,
   "id": "6ba0ebd6",
   "metadata": {},
   "outputs": [
    {
     "data": {
      "text/plain": [
       "StockCode\n",
       "DOT          206248.77\n",
       "M             74106.23\n",
       "POST          34992.23\n",
       "22423         28191.46\n",
       "AMAZONFEE     13761.09\n",
       "B             11062.06\n",
       "47566          9885.03\n",
       "22720          8155.18\n",
       "85066          7561.21\n",
       "22424          7241.53\n",
       "Name: UnitPrice, dtype: float64"
      ]
     },
     "execution_count": 41,
     "metadata": {},
     "output_type": "execute_result"
    }
   ],
   "source": [
    "df.groupby('StockCode')['UnitPrice'].sum().sort_values(ascending=False).head(10)"
   ]
  },
  {
   "cell_type": "code",
   "execution_count": 42,
   "id": "5adeb283",
   "metadata": {},
   "outputs": [
    {
     "data": {
      "text/plain": [
       "dtype('O')"
      ]
     },
     "execution_count": 42,
     "metadata": {},
     "output_type": "execute_result"
    }
   ],
   "source": [
    "#what is the data type of the stockCode \n",
    "df[\"StockCode\"].dtype"
   ]
  },
  {
   "cell_type": "code",
   "execution_count": 43,
   "id": "95200ccc",
   "metadata": {},
   "outputs": [
    {
     "data": {
      "image/png": "[encoded data removed]",
      "text/plain": [
       "<Figure size 640x480 with 1 Axes>"
      ]
     },
     "metadata": {},
     "output_type": "display_data"
    }
   ],
   "source": [
    "\n",
    "High_Revenue=df.groupby('StockCode')['UnitPrice'].sum().sort_values(ascending=False).head(10)\n",
    "sns.barplot(x=High_Revenue.values, y=High_Revenue.index, palette='viridis')\n",
    "plt.title('Highest Revenue')\n",
    "plt.xlabel('Total Sales')\n",
    "plt.ylabel('StockCode')\n",
    "plt.show()"
   ]
  },
  {
   "cell_type": "code",
   "execution_count": 44,
   "id": "03a7c962",
   "metadata": {},
   "outputs": [],
   "source": [
    "# I excluded some stockCode as they were put under column StockCode and they are service charges and not necesary revenue/sales\n",
    "exclude=[\"BANK CHARGES\",\"CRUK\",\"POST\",\"DOT\",\"M\",\"AMAZONFEE\"]"
   ]
  },
  {
   "cell_type": "code",
   "execution_count": 45,
   "id": "6d9e4b14",
   "metadata": {},
   "outputs": [],
   "source": [
    "fil_stock=df[~df[\"StockCode\"].isin(exclude)]"
   ]
  },
  {
   "cell_type": "code",
   "execution_count": 46,
   "id": "ca06331f",
   "metadata": {
    "scrolled": true
   },
   "outputs": [
    {
     "data": {
      "image/png": "[encoded data removed]",
      "text/plain": [
       "<Figure size 640x480 with 1 Axes>"
      ]
     },
     "metadata": {},
     "output_type": "display_data"
    }
   ],
   "source": [
    "High_Revenue=fil_stock.groupby('StockCode')['UnitPrice'].sum().sort_values(ascending=False).head(10)\n",
    "sns.barplot(x=High_Revenue.values, y=High_Revenue.index, palette='viridis')\n",
    "plt.title('Highest Revenue')\n",
    "plt.xlabel('Total Sales')\n",
    "plt.ylabel('StockCode')\n",
    "plt.show()"
   ]
  },
  {
   "cell_type": "code",
   "execution_count": 47,
   "id": "ea215898",
   "metadata": {},
   "outputs": [
    {
     "data": {
      "text/html": [
       "<div>\n",
       "<style scoped>\n",
       "    .dataframe tbody tr th:only-of-type {\n",
       "        vertical-align: middle;\n",
       "    }\n",
       "\n",
       "    .dataframe tbody tr th {\n",
       "        vertical-align: top;\n",
       "    }\n",
       "\n",
       "    .dataframe thead th {\n",
       "        text-align: right;\n",
       "    }\n",
       "</style>\n",
       "<table border=\"1\" class=\"dataframe\">\n",
       "  <thead>\n",
       "    <tr style=\"text-align: right;\">\n",
       "      <th></th>\n",
       "      <th>index</th>\n",
       "      <th>InvoiceNo</th>\n",
       "      <th>StockCode</th>\n",
       "      <th>Description</th>\n",
       "      <th>Quantity</th>\n",
       "      <th>InvoiceDate</th>\n",
       "      <th>UnitPrice</th>\n",
       "      <th>CustomerID</th>\n",
       "      <th>Country</th>\n",
       "    </tr>\n",
       "  </thead>\n",
       "  <tbody>\n",
       "    <tr>\n",
       "      <th>299982</th>\n",
       "      <td>299982</td>\n",
       "      <td>A563185</td>\n",
       "      <td>B</td>\n",
       "      <td>Adjust bad debt</td>\n",
       "      <td>1</td>\n",
       "      <td>8/12/2011 14:50</td>\n",
       "      <td>11062.06</td>\n",
       "      <td>NoCustomerID</td>\n",
       "      <td>United Kingdom</td>\n",
       "    </tr>\n",
       "  </tbody>\n",
       "</table>\n",
       "</div>"
      ],
      "text/plain": [
       "         index InvoiceNo StockCode      Description  Quantity  \\\n",
       "299982  299982   A563185         B  Adjust bad debt         1   \n",
       "\n",
       "            InvoiceDate  UnitPrice    CustomerID         Country  \n",
       "299982  8/12/2011 14:50   11062.06  NoCustomerID  United Kingdom  "
      ]
     },
     "execution_count": 47,
     "metadata": {},
     "output_type": "execute_result"
    }
   ],
   "source": [
    "df[df[\"StockCode\"]==\"B\"]"
   ]
  },
  {
   "cell_type": "code",
   "execution_count": 48,
   "id": "e0fefd7b",
   "metadata": {},
   "outputs": [
    {
     "data": {
      "text/html": [
       "<div>\n",
       "<style scoped>\n",
       "    .dataframe tbody tr th:only-of-type {\n",
       "        vertical-align: middle;\n",
       "    }\n",
       "\n",
       "    .dataframe tbody tr th {\n",
       "        vertical-align: top;\n",
       "    }\n",
       "\n",
       "    .dataframe thead th {\n",
       "        text-align: right;\n",
       "    }\n",
       "</style>\n",
       "<table border=\"1\" class=\"dataframe\">\n",
       "  <thead>\n",
       "    <tr style=\"text-align: right;\">\n",
       "      <th></th>\n",
       "      <th>index</th>\n",
       "      <th>InvoiceNo</th>\n",
       "      <th>StockCode</th>\n",
       "      <th>Description</th>\n",
       "      <th>Quantity</th>\n",
       "      <th>InvoiceDate</th>\n",
       "      <th>UnitPrice</th>\n",
       "      <th>CustomerID</th>\n",
       "      <th>Country</th>\n",
       "    </tr>\n",
       "  </thead>\n",
       "  <tbody>\n",
       "    <tr>\n",
       "      <th>880</th>\n",
       "      <td>880</td>\n",
       "      <td>536477</td>\n",
       "      <td>22423</td>\n",
       "      <td>REGENCY CAKESTAND 3 TIER</td>\n",
       "      <td>16</td>\n",
       "      <td>12/1/2010 12:27</td>\n",
       "      <td>10.95</td>\n",
       "      <td>16210.0</td>\n",
       "      <td>United Kingdom</td>\n",
       "    </tr>\n",
       "    <tr>\n",
       "      <th>936</th>\n",
       "      <td>936</td>\n",
       "      <td>536502</td>\n",
       "      <td>22423</td>\n",
       "      <td>REGENCY CAKESTAND 3 TIER</td>\n",
       "      <td>2</td>\n",
       "      <td>12/1/2010 12:36</td>\n",
       "      <td>12.75</td>\n",
       "      <td>16552.0</td>\n",
       "      <td>United Kingdom</td>\n",
       "    </tr>\n",
       "    <tr>\n",
       "      <th>1092</th>\n",
       "      <td>1092</td>\n",
       "      <td>536525</td>\n",
       "      <td>22423</td>\n",
       "      <td>REGENCY CAKESTAND 3 TIER</td>\n",
       "      <td>2</td>\n",
       "      <td>12/1/2010 12:54</td>\n",
       "      <td>12.75</td>\n",
       "      <td>14078.0</td>\n",
       "      <td>United Kingdom</td>\n",
       "    </tr>\n",
       "    <tr>\n",
       "      <th>1155</th>\n",
       "      <td>1155</td>\n",
       "      <td>536528</td>\n",
       "      <td>22423</td>\n",
       "      <td>REGENCY CAKESTAND 3 TIER</td>\n",
       "      <td>1</td>\n",
       "      <td>12/1/2010 13:17</td>\n",
       "      <td>12.75</td>\n",
       "      <td>15525.0</td>\n",
       "      <td>United Kingdom</td>\n",
       "    </tr>\n",
       "    <tr>\n",
       "      <th>1197</th>\n",
       "      <td>1197</td>\n",
       "      <td>536530</td>\n",
       "      <td>22423</td>\n",
       "      <td>REGENCY CAKESTAND 3 TIER</td>\n",
       "      <td>1</td>\n",
       "      <td>12/1/2010 13:21</td>\n",
       "      <td>12.75</td>\n",
       "      <td>17905.0</td>\n",
       "      <td>United Kingdom</td>\n",
       "    </tr>\n",
       "    <tr>\n",
       "      <th>...</th>\n",
       "      <td>...</td>\n",
       "      <td>...</td>\n",
       "      <td>...</td>\n",
       "      <td>...</td>\n",
       "      <td>...</td>\n",
       "      <td>...</td>\n",
       "      <td>...</td>\n",
       "      <td>...</td>\n",
       "      <td>...</td>\n",
       "    </tr>\n",
       "    <tr>\n",
       "      <th>539891</th>\n",
       "      <td>539891</td>\n",
       "      <td>581449</td>\n",
       "      <td>22423</td>\n",
       "      <td>REGENCY CAKESTAND 3 TIER</td>\n",
       "      <td>1</td>\n",
       "      <td>12/8/2011 17:37</td>\n",
       "      <td>12.75</td>\n",
       "      <td>12748.0</td>\n",
       "      <td>United Kingdom</td>\n",
       "    </tr>\n",
       "    <tr>\n",
       "      <th>539892</th>\n",
       "      <td>539892</td>\n",
       "      <td>581449</td>\n",
       "      <td>22423</td>\n",
       "      <td>REGENCY CAKESTAND 3 TIER</td>\n",
       "      <td>1</td>\n",
       "      <td>12/8/2011 17:37</td>\n",
       "      <td>12.75</td>\n",
       "      <td>12748.0</td>\n",
       "      <td>United Kingdom</td>\n",
       "    </tr>\n",
       "    <tr>\n",
       "      <th>540216</th>\n",
       "      <td>540216</td>\n",
       "      <td>581472</td>\n",
       "      <td>22423</td>\n",
       "      <td>REGENCY CAKESTAND 3 TIER</td>\n",
       "      <td>2</td>\n",
       "      <td>12/8/2011 19:55</td>\n",
       "      <td>12.75</td>\n",
       "      <td>15796.0</td>\n",
       "      <td>United Kingdom</td>\n",
       "    </tr>\n",
       "    <tr>\n",
       "      <th>541231</th>\n",
       "      <td>541231</td>\n",
       "      <td>581495</td>\n",
       "      <td>22423</td>\n",
       "      <td>REGENCY CAKESTAND 3 TIER</td>\n",
       "      <td>10</td>\n",
       "      <td>12/9/2011 10:20</td>\n",
       "      <td>12.75</td>\n",
       "      <td>14051.0</td>\n",
       "      <td>United Kingdom</td>\n",
       "    </tr>\n",
       "    <tr>\n",
       "      <th>541290</th>\n",
       "      <td>541290</td>\n",
       "      <td>581497</td>\n",
       "      <td>22423</td>\n",
       "      <td>REGENCY CAKESTAND 3 TIER</td>\n",
       "      <td>8</td>\n",
       "      <td>12/9/2011 10:23</td>\n",
       "      <td>24.96</td>\n",
       "      <td>NoCustomerID</td>\n",
       "      <td>United Kingdom</td>\n",
       "    </tr>\n",
       "  </tbody>\n",
       "</table>\n",
       "<p>2017 rows × 9 columns</p>\n",
       "</div>"
      ],
      "text/plain": [
       "         index InvoiceNo StockCode               Description  Quantity  \\\n",
       "880        880    536477     22423  REGENCY CAKESTAND 3 TIER        16   \n",
       "936        936    536502     22423  REGENCY CAKESTAND 3 TIER         2   \n",
       "1092      1092    536525     22423  REGENCY CAKESTAND 3 TIER         2   \n",
       "1155      1155    536528     22423  REGENCY CAKESTAND 3 TIER         1   \n",
       "1197      1197    536530     22423  REGENCY CAKESTAND 3 TIER         1   \n",
       "...        ...       ...       ...                       ...       ...   \n",
       "539891  539891    581449     22423  REGENCY CAKESTAND 3 TIER         1   \n",
       "539892  539892    581449     22423  REGENCY CAKESTAND 3 TIER         1   \n",
       "540216  540216    581472     22423  REGENCY CAKESTAND 3 TIER         2   \n",
       "541231  541231    581495     22423  REGENCY CAKESTAND 3 TIER        10   \n",
       "541290  541290    581497     22423  REGENCY CAKESTAND 3 TIER         8   \n",
       "\n",
       "            InvoiceDate  UnitPrice    CustomerID         Country  \n",
       "880     12/1/2010 12:27      10.95       16210.0  United Kingdom  \n",
       "936     12/1/2010 12:36      12.75       16552.0  United Kingdom  \n",
       "1092    12/1/2010 12:54      12.75       14078.0  United Kingdom  \n",
       "1155    12/1/2010 13:17      12.75       15525.0  United Kingdom  \n",
       "1197    12/1/2010 13:21      12.75       17905.0  United Kingdom  \n",
       "...                 ...        ...           ...             ...  \n",
       "539891  12/8/2011 17:37      12.75       12748.0  United Kingdom  \n",
       "539892  12/8/2011 17:37      12.75       12748.0  United Kingdom  \n",
       "540216  12/8/2011 19:55      12.75       15796.0  United Kingdom  \n",
       "541231  12/9/2011 10:20      12.75       14051.0  United Kingdom  \n",
       "541290  12/9/2011 10:23      24.96  NoCustomerID  United Kingdom  \n",
       "\n",
       "[2017 rows x 9 columns]"
      ]
     },
     "execution_count": 48,
     "metadata": {},
     "output_type": "execute_result"
    }
   ],
   "source": [
    "df[df[\"StockCode\"]==\"22423\"]"
   ]
  },
  {
   "cell_type": "code",
   "execution_count": 49,
   "id": "3cc69cad",
   "metadata": {},
   "outputs": [
    {
     "data": {
      "text/html": [
       "<div>\n",
       "<style scoped>\n",
       "    .dataframe tbody tr th:only-of-type {\n",
       "        vertical-align: middle;\n",
       "    }\n",
       "\n",
       "    .dataframe tbody tr th {\n",
       "        vertical-align: top;\n",
       "    }\n",
       "\n",
       "    .dataframe thead th {\n",
       "        text-align: right;\n",
       "    }\n",
       "</style>\n",
       "<table border=\"1\" class=\"dataframe\">\n",
       "  <thead>\n",
       "    <tr style=\"text-align: right;\">\n",
       "      <th></th>\n",
       "      <th>index</th>\n",
       "      <th>InvoiceNo</th>\n",
       "      <th>StockCode</th>\n",
       "      <th>Description</th>\n",
       "      <th>Quantity</th>\n",
       "      <th>InvoiceDate</th>\n",
       "      <th>UnitPrice</th>\n",
       "      <th>CustomerID</th>\n",
       "      <th>Country</th>\n",
       "    </tr>\n",
       "  </thead>\n",
       "  <tbody>\n",
       "    <tr>\n",
       "      <th>2239</th>\n",
       "      <td>2239</td>\n",
       "      <td>536569</td>\n",
       "      <td>M</td>\n",
       "      <td>Manual</td>\n",
       "      <td>1</td>\n",
       "      <td>12/1/2010 15:35</td>\n",
       "      <td>1.25</td>\n",
       "      <td>16274.0</td>\n",
       "      <td>United Kingdom</td>\n",
       "    </tr>\n",
       "    <tr>\n",
       "      <th>2250</th>\n",
       "      <td>2250</td>\n",
       "      <td>536569</td>\n",
       "      <td>M</td>\n",
       "      <td>Manual</td>\n",
       "      <td>1</td>\n",
       "      <td>12/1/2010 15:35</td>\n",
       "      <td>18.95</td>\n",
       "      <td>16274.0</td>\n",
       "      <td>United Kingdom</td>\n",
       "    </tr>\n",
       "    <tr>\n",
       "      <th>5684</th>\n",
       "      <td>5684</td>\n",
       "      <td>536865</td>\n",
       "      <td>M</td>\n",
       "      <td>Manual</td>\n",
       "      <td>1</td>\n",
       "      <td>12/3/2010 11:28</td>\n",
       "      <td>2.55</td>\n",
       "      <td>NoCustomerID</td>\n",
       "      <td>United Kingdom</td>\n",
       "    </tr>\n",
       "    <tr>\n",
       "      <th>6798</th>\n",
       "      <td>6798</td>\n",
       "      <td>536981</td>\n",
       "      <td>M</td>\n",
       "      <td>Manual</td>\n",
       "      <td>2</td>\n",
       "      <td>12/3/2010 14:26</td>\n",
       "      <td>0.85</td>\n",
       "      <td>14723.0</td>\n",
       "      <td>United Kingdom</td>\n",
       "    </tr>\n",
       "    <tr>\n",
       "      <th>7976</th>\n",
       "      <td>7976</td>\n",
       "      <td>537077</td>\n",
       "      <td>M</td>\n",
       "      <td>Manual</td>\n",
       "      <td>12</td>\n",
       "      <td>12/5/2010 11:59</td>\n",
       "      <td>0.42</td>\n",
       "      <td>17062.0</td>\n",
       "      <td>United Kingdom</td>\n",
       "    </tr>\n",
       "    <tr>\n",
       "      <th>...</th>\n",
       "      <td>...</td>\n",
       "      <td>...</td>\n",
       "      <td>...</td>\n",
       "      <td>...</td>\n",
       "      <td>...</td>\n",
       "      <td>...</td>\n",
       "      <td>...</td>\n",
       "      <td>...</td>\n",
       "      <td>...</td>\n",
       "    </tr>\n",
       "    <tr>\n",
       "      <th>526015</th>\n",
       "      <td>526015</td>\n",
       "      <td>580645</td>\n",
       "      <td>M</td>\n",
       "      <td>Manual</td>\n",
       "      <td>1</td>\n",
       "      <td>12/5/2011 13:11</td>\n",
       "      <td>219.50</td>\n",
       "      <td>17857.0</td>\n",
       "      <td>United Kingdom</td>\n",
       "    </tr>\n",
       "    <tr>\n",
       "      <th>526018</th>\n",
       "      <td>526018</td>\n",
       "      <td>580646</td>\n",
       "      <td>M</td>\n",
       "      <td>Manual</td>\n",
       "      <td>800</td>\n",
       "      <td>12/5/2011 13:13</td>\n",
       "      <td>0.25</td>\n",
       "      <td>17857.0</td>\n",
       "      <td>United Kingdom</td>\n",
       "    </tr>\n",
       "    <tr>\n",
       "      <th>530876</th>\n",
       "      <td>530876</td>\n",
       "      <td>580884</td>\n",
       "      <td>M</td>\n",
       "      <td>Manual</td>\n",
       "      <td>1</td>\n",
       "      <td>12/6/2011 12:21</td>\n",
       "      <td>0.85</td>\n",
       "      <td>15907.0</td>\n",
       "      <td>United Kingdom</td>\n",
       "    </tr>\n",
       "    <tr>\n",
       "      <th>531432</th>\n",
       "      <td>531432</td>\n",
       "      <td>580956</td>\n",
       "      <td>M</td>\n",
       "      <td>Manual</td>\n",
       "      <td>4</td>\n",
       "      <td>12/6/2011 14:23</td>\n",
       "      <td>1.25</td>\n",
       "      <td>17841.0</td>\n",
       "      <td>United Kingdom</td>\n",
       "    </tr>\n",
       "    <tr>\n",
       "      <th>538321</th>\n",
       "      <td>538321</td>\n",
       "      <td>581405</td>\n",
       "      <td>M</td>\n",
       "      <td>Manual</td>\n",
       "      <td>3</td>\n",
       "      <td>12/8/2011 13:50</td>\n",
       "      <td>0.42</td>\n",
       "      <td>13521.0</td>\n",
       "      <td>United Kingdom</td>\n",
       "    </tr>\n",
       "  </tbody>\n",
       "</table>\n",
       "<p>321 rows × 9 columns</p>\n",
       "</div>"
      ],
      "text/plain": [
       "         index InvoiceNo StockCode Description  Quantity      InvoiceDate  \\\n",
       "2239      2239    536569         M      Manual         1  12/1/2010 15:35   \n",
       "2250      2250    536569         M      Manual         1  12/1/2010 15:35   \n",
       "5684      5684    536865         M      Manual         1  12/3/2010 11:28   \n",
       "6798      6798    536981         M      Manual         2  12/3/2010 14:26   \n",
       "7976      7976    537077         M      Manual        12  12/5/2010 11:59   \n",
       "...        ...       ...       ...         ...       ...              ...   \n",
       "526015  526015    580645         M      Manual         1  12/5/2011 13:11   \n",
       "526018  526018    580646         M      Manual       800  12/5/2011 13:13   \n",
       "530876  530876    580884         M      Manual         1  12/6/2011 12:21   \n",
       "531432  531432    580956         M      Manual         4  12/6/2011 14:23   \n",
       "538321  538321    581405         M      Manual         3  12/8/2011 13:50   \n",
       "\n",
       "        UnitPrice    CustomerID         Country  \n",
       "2239         1.25       16274.0  United Kingdom  \n",
       "2250        18.95       16274.0  United Kingdom  \n",
       "5684         2.55  NoCustomerID  United Kingdom  \n",
       "6798         0.85       14723.0  United Kingdom  \n",
       "7976         0.42       17062.0  United Kingdom  \n",
       "...           ...           ...             ...  \n",
       "526015     219.50       17857.0  United Kingdom  \n",
       "526018       0.25       17857.0  United Kingdom  \n",
       "530876       0.85       15907.0  United Kingdom  \n",
       "531432       1.25       17841.0  United Kingdom  \n",
       "538321       0.42       13521.0  United Kingdom  \n",
       "\n",
       "[321 rows x 9 columns]"
      ]
     },
     "execution_count": 49,
     "metadata": {},
     "output_type": "execute_result"
    }
   ],
   "source": [
    "df[df[\"StockCode\"]==\"M\"]"
   ]
  },
  {
   "cell_type": "code",
   "execution_count": null,
   "id": "c7efe631",
   "metadata": {},
   "outputs": [],
   "source": []
  },
  {
   "cell_type": "markdown",
   "id": "4f8443b6",
   "metadata": {},
   "source": []
  },
  {
   "cell_type": "markdown",
   "id": "93cdc26e",
   "metadata": {},
   "source": [
    "### Since Price x Quantity = Revenue. Creating new a column \"Revenue\" so that we can calculate the Sales Revenue and resue theoutput is on that ..\n",
    "so this will enable us to calclulte the trend of sales monthly spread over the 12 months period\n",
    " Explore the time trend of the data\n",
    "#sum up the product of Price and Quantity sold in order to calculate the Total Sales\n"
   ]
  },
  {
   "cell_type": "code",
   "execution_count": 50,
   "id": "00ea51d5",
   "metadata": {},
   "outputs": [],
   "source": [
    "df=df.assign(Revenue=df[\"Quantity\"] * df[\"UnitPrice\"] )"
   ]
  },
  {
   "cell_type": "markdown",
   "id": "b4cbaf14",
   "metadata": {},
   "source": [
    "## Question 2: Which month did the retail make highest revenue?\n",
    "the 11th months, which is month of November shows the highest revenue the retail has made .\n",
    "this is the month that experienced the highest sales and therefore the busiest month of the retaiil business"
   ]
  },
  {
   "cell_type": "code",
   "execution_count": 51,
   "id": "ad4d0e50",
   "metadata": {},
   "outputs": [
    {
     "data": {
      "image/png": "[encoded data removed]",
      "text/plain": [
       "<Figure size 640x480 with 1 Axes>"
      ]
     },
     "metadata": {},
     "output_type": "display_data"
    }
   ],
   "source": [
    "def plot_monthly_sales_trend(df):\n",
    "    \"\"\"\n",
    "    Plots the monthly sales trend based on the 'Revenue' column.\n",
    "\n",
    "    Parameters:\n",
    "    - df: DataFrame, the input DataFrame containing 'InvoiceDate' and 'Revenue' columns.\n",
    "    \"\"\"\n",
    "    df['InvoiceDate'] = pd.to_datetime(df['InvoiceDate'])\n",
    "    df['Month'] = df['InvoiceDate'].dt.month\n",
    "    monthly_sales = df.groupby('Month')['Revenue'].sum()\n",
    "\n",
    "    plt.plot(monthly_sales, marker='o')\n",
    "    plt.title('Monthly Sales Trend')\n",
    "    plt.xlabel('Month')\n",
    "    plt.ylabel('Total Sales')\n",
    "    plt.show()\n",
    "\n",
    "\n",
    "# invoking the funtion\n",
    "plot_monthly_sales_trend(df)\n"
   ]
  },
  {
   "cell_type": "code",
   "execution_count": 52,
   "id": "69e947ed",
   "metadata": {},
   "outputs": [
    {
     "data": {
      "text/plain": [
       "Country\n",
       "United Kingdom          1867568.034\n",
       "EIRE                      38489.950\n",
       "France                    36992.790\n",
       "Germany                   33532.140\n",
       "Singapore                 12949.990\n",
       "Spain                      9504.340\n",
       "Portugal                   8770.720\n",
       "Belgium                    7372.850\n",
       "Hong Kong                  6666.740\n",
       "Switzerland                6634.360\n",
       "Netherlands                6247.730\n",
       "Norway                     5662.470\n",
       "Finland                    3628.440\n",
       "Australia                  3612.500\n",
       "Italy                      3576.210\n",
       "Cyprus                     3506.180\n",
       "Channel Islands            3389.650\n",
       "Sweden                     1695.790\n",
       "Austria                    1693.900\n",
       "Poland                     1377.210\n",
       "Unspecified                1204.010\n",
       "Denmark                    1195.550\n",
       "Israel                     1070.980\n",
       "Canada                      910.580\n",
       "Greece                      663.290\n",
       "Japan                       657.210\n",
       "Malta                       545.190\n",
       "Iceland                     481.210\n",
       "USA                         413.300\n",
       "European Community          289.800\n",
       "RSA                         248.100\n",
       "Lebanon                     242.440\n",
       "United Arab Emirates        229.890\n",
       "Brazil                      142.600\n",
       "Lithuania                    99.440\n",
       "Bahrain                      82.760\n",
       "Czech Republic               78.270\n",
       "Saudi Arabia                 21.160\n",
       "Name: UnitPrice, dtype: float64"
      ]
     },
     "execution_count": 52,
     "metadata": {},
     "output_type": "execute_result"
    }
   ],
   "source": [
    "#Checking the sum of UnitPrice and grouping them by Country\n",
    "df.groupby([\"Country\"])[\"UnitPrice\"].sum().sort_values(ascending=False)"
   ]
  },
  {
   "cell_type": "code",
   "execution_count": 53,
   "id": "38d5fdb2",
   "metadata": {},
   "outputs": [
    {
     "data": {
      "image/png": "[encoded data removed]",
      "text/plain": [
       "<Figure size 640x480 with 1 Axes>"
      ]
     },
     "metadata": {},
     "output_type": "display_data"
    }
   ],
   "source": [
    "def plot_monthly_sales_trend(df):\n",
    "    df['InvoiceDate'] = pd.to_datetime(df['InvoiceDate'])\n",
    "    df['Month'] = df['InvoiceDate'].dt.month\n",
    "    monthly_sales = df.groupby('Month')['Quantity'].sum()\n",
    "    plt.plot(monthly_sales, marker='o')\n",
    "    plt.title('Monthly Sales Trend')\n",
    "    plt.xlabel('Month')\n",
    "    plt.ylabel('Total Quantity Sold')\n",
    "    plt.show()\n",
    "\n",
    "# Plotting the graph using the function:\n",
    "plot_monthly_sales_trend(df)"
   ]
  },
  {
   "cell_type": "code",
   "execution_count": 54,
   "id": "f4910a7a",
   "metadata": {},
   "outputs": [
    {
     "data": {
      "text/plain": [
       "Country\n",
       "United Kingdom          9025222.084\n",
       "Netherlands              285446.340\n",
       "EIRE                     283453.960\n",
       "Germany                  228867.140\n",
       "France                   209715.110\n",
       "Australia                138521.310\n",
       "Spain                     61577.110\n",
       "Switzerland               57089.900\n",
       "Belgium                   41196.340\n",
       "Sweden                    38378.330\n",
       "Japan                     37416.370\n",
       "Norway                    36165.440\n",
       "Portugal                  33747.100\n",
       "Finland                   22546.080\n",
       "Singapore                 21279.290\n",
       "Channel Islands           20450.440\n",
       "Denmark                   18955.340\n",
       "Italy                     17483.240\n",
       "Hong Kong                 15691.800\n",
       "Cyprus                    13590.380\n",
       "Austria                   10198.680\n",
       "Israel                     8135.260\n",
       "Poland                     7334.650\n",
       "Greece                     4760.520\n",
       "Unspecified                4749.790\n",
       "Iceland                    4310.000\n",
       "Canada                     3666.380\n",
       "USA                        3580.390\n",
       "Malta                      2725.590\n",
       "United Arab Emirates       1902.280\n",
       "Lebanon                    1693.880\n",
       "Lithuania                  1661.060\n",
       "European Community         1300.250\n",
       "Brazil                     1143.600\n",
       "RSA                        1002.310\n",
       "Czech Republic              826.740\n",
       "Bahrain                     754.140\n",
       "Saudi Arabia                145.920\n",
       "Name: Revenue, dtype: float64"
      ]
     },
     "execution_count": 54,
     "metadata": {},
     "output_type": "execute_result"
    }
   ],
   "source": [
    "#plot to show how Revenue per Country looks like, by sum up the total revenue\n",
    "#Round up the number by default to float, it is still readable\n",
    "\n",
    "df.groupby([\"Country\"])[\"Revenue\"].sum().sort_values(ascending=False)"
   ]
  },
  {
   "cell_type": "markdown",
   "id": "6425f12d",
   "metadata": {},
   "source": [
    "## Question 3: Which country is doing highest percentage of online trasactions?\n",
    "displaying the Top 10 Countries\n",
    "#round off the number to 4 digits  decimal point\n",
    "The answer: \n",
    "United Kingdon is doing more than 80% of the total sales trasactions, therefore the highest country."
   ]
  },
  {
   "cell_type": "code",
   "execution_count": 55,
   "id": "1cf52269",
   "metadata": {},
   "outputs": [
    {
     "data": {
      "text/plain": [
       "<Axes: title={'center': 'Country with highest Online transactions in %'}>"
      ]
     },
     "execution_count": 55,
     "metadata": {},
     "output_type": "execute_result"
    },
    {
     "data": {
      "image/png": "[encoded data removed]",
      "text/plain": [
       "<Figure size 640x480 with 1 Axes>"
      ]
     },
     "metadata": {},
     "output_type": "display_data"
    }
   ],
   "source": [
    "## Which country is doing highest percentage of online trasactions?\n",
    ", displaying the Top 10 Countries\n",
    "#round off the number to 4 digits  decimal point\n",
    "df[\"Country\"].value_counts(normalize=True).round(4)\\\n",
    ".head(10) \\\n",
    ".plot(kind = 'bar', title = 'Country with highest Online transactions in %')"
   ]
  },
  {
   "cell_type": "markdown",
   "id": "b954f698",
   "metadata": {},
   "source": [
    "# Conclusion\n",
    "\n",
    "With online shopping, your next customer could be from anywhere in the world, as internet has made shopping to be without physical borders.\n",
    "\n",
    "The low percentage of transactions in other countries tell a story about the potential business opportunities that lay beyond UK, thereby confirming how broad the market is, as customer is a click away.\n",
    "\n",
    "The fast-moving products give retailer insights so that they are aware of such products, thereby monitor stock and keep enough inventory in store. could be any Regions, products, and temporal patterns are dissected to empower retailers with actionable insights, the analysis illuminates the multifaceted landscape of online shopping.\n",
    "\n",
    "November experienced the highest quantity of items sold, the timing can be attributed to Festive seasons preparations as customers would like to place their orders way in advance so that they reach them on time, therefore it means the retail need to be well-resourced for executing and serving customers better.\n",
    "\n",
    "There are 2 x Customers who bought big Quantity of units, thereby making it biggest purchase from one customer.. Excluding this purchase was changing the Sales and total revnue, therefore we kept the numbers on all plots. \n",
    "\n",
    "in essence, data-driven decision making (DDDM) guides businesses toward informed and strategic decisions on stock inventory, predictive modeling can now be used to forecast future trends in online shopping.\n"
   ]
  },
  {
   "cell_type": "markdown",
   "id": "966488e8",
   "metadata": {},
   "source": [
    "# Resources\n",
    "I acknowledge [Kaggle](https://www.kaggle.com/) \n",
    "https://seaborn.pydata.org/generated/seaborn.barplot.html https://www.geeksforgeeks.org/seaborn-barplot-method-in-python/ https://seaborn.pydata.org/generated/seaborn.catplot.html https://stackoverflow.com/questions/12555323/how-to-add-a-new-column-to-an-existing-dataframe https://stackoverflow.com/questions/30328776/how-to-create-a-dataframe-of-summary-statistics https://pandas.pydata.org/docs/getting_started/intro_tutorials/06_calculate_statistics.html\n"
   ]
  }
 ],
 "metadata": {
  "kernelspec": {
   "display_name": "Python 3 (ipykernel)",
   "language": "python",
   "name": "python3"
  },
  "language_info": {
   "codemirror_mode": {
    "name": "ipython",
    "version": 3
   },
   "file_extension": ".py",
   "mimetype": "text/x-python",
   "name": "python",
   "nbconvert_exporter": "python",
   "pygments_lexer": "ipython3",
   "version": "3.10.9"
  }
 },
 "nbformat": 4,
 "nbformat_minor": 5
}
